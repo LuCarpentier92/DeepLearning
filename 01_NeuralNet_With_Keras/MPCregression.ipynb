{
 "cells": [
  {
   "cell_type": "markdown",
   "source": [
    "# Regression MLP"
   ],
   "metadata": {
    "collapsed": false
   },
   "id": "7bb52949c8fe428c"
  },
  {
   "cell_type": "code",
   "execution_count": 2,
   "outputs": [
    {
     "name": "stdout",
     "output_type": "stream",
     "text": [
      "WARNING:tensorflow:From C:\\Users\\Lucas\\AppData\\Local\\Programs\\Python\\Python39\\lib\\site-packages\\keras\\src\\losses.py:2976: The name tf.losses.sparse_softmax_cross_entropy is deprecated. Please use tf.compat.v1.losses.sparse_softmax_cross_entropy instead.\n"
     ]
    }
   ],
   "source": [
    "import keras.models\n",
    "import matplotlib.pyplot as plt\n",
    "import numpy as np\n",
    "import tensorflow  as tf\n",
    "import pandas as pd\n",
    "from tensorflow import keras\n",
    "from sklearn.datasets import fetch_california_housing\n",
    "from sklearn.model_selection import train_test_split\n",
    "from sklearn.preprocessing import StandardScaler\n",
    "\n",
    "housing = fetch_california_housing()\n",
    "\n",
    "X_train_full, X_test, y_train_full, y_test = train_test_split(housing.data, housing.target, random_state=42)\n",
    "X_train, X_valid, y_train, y_valid = train_test_split(X_train_full, y_train_full, random_state=42)\n",
    "\n",
    "scaler = StandardScaler()\n",
    "X_train = scaler.fit_transform(X_train)\n",
    "X_valid = scaler.transform(X_valid)\n",
    "X_test = scaler.transform(X_test)"
   ],
   "metadata": {
    "collapsed": true,
    "ExecuteTime": {
     "end_time": "2024-01-21T10:42:40.278320Z",
     "start_time": "2024-01-21T10:42:35.745710300Z"
    }
   },
   "id": "initial_id"
  },
  {
   "cell_type": "code",
   "execution_count": 3,
   "outputs": [],
   "source": [
    "np.random.seed(42)\n",
    "tf.random.set_seed(42)"
   ],
   "metadata": {
    "collapsed": false,
    "ExecuteTime": {
     "end_time": "2024-01-21T10:42:40.294335Z",
     "start_time": "2024-01-21T10:42:40.278320Z"
    }
   },
   "id": "caac862f24fb4aee"
  },
  {
   "cell_type": "code",
   "execution_count": 4,
   "outputs": [
    {
     "name": "stdout",
     "output_type": "stream",
     "text": [
      "WARNING:tensorflow:From C:\\Users\\Lucas\\AppData\\Local\\Programs\\Python\\Python39\\lib\\site-packages\\keras\\src\\backend.py:873: The name tf.get_default_graph is deprecated. Please use tf.compat.v1.get_default_graph instead.\n",
      "WARNING:tensorflow:From C:\\Users\\Lucas\\AppData\\Local\\Programs\\Python\\Python39\\lib\\site-packages\\keras\\src\\optimizers\\__init__.py:309: The name tf.train.Optimizer is deprecated. Please use tf.compat.v1.train.Optimizer instead.\n",
      "Epoch 1/20\n",
      "WARNING:tensorflow:From C:\\Users\\Lucas\\AppData\\Local\\Programs\\Python\\Python39\\lib\\site-packages\\keras\\src\\utils\\tf_utils.py:492: The name tf.ragged.RaggedTensorValue is deprecated. Please use tf.compat.v1.ragged.RaggedTensorValue instead.\n",
      "WARNING:tensorflow:From C:\\Users\\Lucas\\AppData\\Local\\Programs\\Python\\Python39\\lib\\site-packages\\keras\\src\\engine\\base_layer_utils.py:384: The name tf.executing_eagerly_outside_functions is deprecated. Please use tf.compat.v1.executing_eagerly_outside_functions instead.\n",
      "363/363 [==============================] - 1s 1ms/step - loss: 0.7876 - accuracy: 0.0028 - val_loss: 0.9010 - val_accuracy: 0.0044\n",
      "Epoch 2/20\n",
      "363/363 [==============================] - 0s 848us/step - loss: 0.4822 - accuracy: 0.0028 - val_loss: 0.8625 - val_accuracy: 0.0044\n",
      "Epoch 3/20\n",
      "363/363 [==============================] - 0s 859us/step - loss: 0.4312 - accuracy: 0.0028 - val_loss: 0.4696 - val_accuracy: 0.0044\n",
      "Epoch 4/20\n",
      "363/363 [==============================] - 0s 869us/step - loss: 0.3992 - accuracy: 0.0028 - val_loss: 0.3706 - val_accuracy: 0.0044\n",
      "Epoch 5/20\n",
      "363/363 [==============================] - 0s 864us/step - loss: 0.3923 - accuracy: 0.0028 - val_loss: 0.9961 - val_accuracy: 0.0044\n",
      "Epoch 6/20\n",
      "363/363 [==============================] - 0s 866us/step - loss: 0.3902 - accuracy: 0.0028 - val_loss: 0.9946 - val_accuracy: 0.0044\n",
      "Epoch 7/20\n",
      "363/363 [==============================] - 0s 841us/step - loss: 0.4533 - accuracy: 0.0029 - val_loss: 12.2535 - val_accuracy: 0.0044\n",
      "Epoch 8/20\n",
      "363/363 [==============================] - 0s 858us/step - loss: 0.4142 - accuracy: 0.0028 - val_loss: 23.5945 - val_accuracy: 0.0044\n",
      "Epoch 9/20\n",
      "363/363 [==============================] - 0s 886us/step - loss: 0.4831 - accuracy: 0.0029 - val_loss: 1.6971 - val_accuracy: 0.0044\n",
      "Epoch 10/20\n",
      "363/363 [==============================] - 0s 864us/step - loss: 0.3971 - accuracy: 0.0029 - val_loss: 0.4064 - val_accuracy: 0.0044\n",
      "Epoch 11/20\n",
      "363/363 [==============================] - 0s 872us/step - loss: 0.3795 - accuracy: 0.0029 - val_loss: 0.3589 - val_accuracy: 0.0044\n",
      "Epoch 12/20\n",
      "363/363 [==============================] - 0s 812us/step - loss: 0.3770 - accuracy: 0.0029 - val_loss: 0.3895 - val_accuracy: 0.0044\n",
      "Epoch 13/20\n",
      "363/363 [==============================] - 0s 843us/step - loss: 0.3707 - accuracy: 0.0029 - val_loss: 0.3540 - val_accuracy: 0.0044\n",
      "Epoch 14/20\n",
      "363/363 [==============================] - 0s 838us/step - loss: 0.3658 - accuracy: 0.0029 - val_loss: 0.3405 - val_accuracy: 0.0044\n",
      "Epoch 15/20\n",
      "363/363 [==============================] - 0s 826us/step - loss: 0.3657 - accuracy: 0.0028 - val_loss: 0.3640 - val_accuracy: 0.0044\n",
      "Epoch 16/20\n",
      "363/363 [==============================] - 0s 819us/step - loss: 0.3637 - accuracy: 0.0029 - val_loss: 0.3373 - val_accuracy: 0.0044\n",
      "Epoch 17/20\n",
      "363/363 [==============================] - 0s 838us/step - loss: 0.3604 - accuracy: 0.0029 - val_loss: 0.4218 - val_accuracy: 0.0044\n",
      "Epoch 18/20\n",
      "363/363 [==============================] - 0s 905us/step - loss: 0.3583 - accuracy: 0.0028 - val_loss: 0.3398 - val_accuracy: 0.0044\n",
      "Epoch 19/20\n",
      "363/363 [==============================] - 0s 858us/step - loss: 0.3687 - accuracy: 0.0029 - val_loss: 0.3402 - val_accuracy: 0.0044\n",
      "Epoch 20/20\n",
      "363/363 [==============================] - 0s 841us/step - loss: 0.3558 - accuracy: 0.0029 - val_loss: 0.4795 - val_accuracy: 0.0044\n",
      "162/162 [==============================] - 0s 575us/step - loss: 0.3489 - accuracy: 0.0021\n",
      "1/1 [==============================] - 0s 55ms/step\n",
      "[[0.65927243]\n",
      " [1.7726783 ]\n",
      " [4.254038  ]\n",
      " [2.4431102 ]]\n"
     ]
    }
   ],
   "source": [
    "model = keras.models.Sequential([\n",
    "    keras.layers.Dense(30, activation='relu', input_shape=X_train.shape[1:]),\n",
    "    keras.layers.Dense(1)\n",
    "    ])\n",
    "\n",
    "model.compile(loss ='mean_squared_error', optimizer='sgd', metrics=['accuracy'])\n",
    "history = model.fit(X_train,y_train, epochs=20, validation_data=(X_valid,y_valid))\n",
    "mse_test = model.evaluate(X_test,y_test)\n",
    "X_new = X_test[:4]\n",
    "value = model.predict(X_new)\n",
    "print(value)"
   ],
   "metadata": {
    "collapsed": false,
    "ExecuteTime": {
     "end_time": "2024-01-21T10:42:47.567984Z",
     "start_time": "2024-01-21T10:42:40.293334300Z"
    }
   },
   "id": "897687b43833725b"
  },
  {
   "cell_type": "code",
   "execution_count": 5,
   "outputs": [
    {
     "data": {
      "text/plain": "<Figure size 640x480 with 1 Axes>",
      "image/png": "[encoded data removed]"
     },
     "metadata": {},
     "output_type": "display_data"
    }
   ],
   "source": [
    "plt.plot(pd.DataFrame(history.history))\n",
    "plt.grid(True)\n",
    "plt.gca().set_ylim(0, 1)\n",
    "plt.show()"
   ],
   "metadata": {
    "collapsed": false,
    "ExecuteTime": {
     "end_time": "2024-01-21T10:42:47.678586900Z",
     "start_time": "2024-01-21T10:42:47.567984Z"
    }
   },
   "id": "a214c52c2506bdb5"
  },
  {
   "cell_type": "markdown",
   "source": [
    "# Functional API"
   ],
   "metadata": {
    "collapsed": false
   },
   "id": "2d0db67f5d4efc2c"
  },
  {
   "cell_type": "code",
   "execution_count": 6,
   "outputs": [],
   "source": [
    "input_ = keras.layers.Input(shape=X_train.shape[1:])\n",
    "hidden1 = keras.layers.Dense(30, activation=\"relu\")(input_)\n",
    "hidden2 = keras.layers.Dense(30, activation=\"relu\")(hidden1)\n",
    "concat = keras.layers.concatenate([input_, hidden2])\n",
    "output = keras.layers.Dense(1)(concat)\n",
    "model = keras.models.Model(inputs=[input_], outputs=[output])"
   ],
   "metadata": {
    "collapsed": false,
    "ExecuteTime": {
     "end_time": "2024-01-21T10:42:47.738642600Z",
     "start_time": "2024-01-21T10:42:47.679587700Z"
    }
   },
   "id": "41aaab6724270703"
  },
  {
   "cell_type": "code",
   "execution_count": 7,
   "outputs": [
    {
     "name": "stdout",
     "output_type": "stream",
     "text": [
      "Model: \"model\"\n",
      "__________________________________________________________________________________________________\n",
      " Layer (type)                Output Shape                 Param #   Connected to                  \n",
      "==================================================================================================\n",
      " input_1 (InputLayer)        [(None, 8)]                  0         []                            \n",
      "                                                                                                  \n",
      " dense_2 (Dense)             (None, 30)                   270       ['input_1[0][0]']             \n",
      "                                                                                                  \n",
      " dense_3 (Dense)             (None, 30)                   930       ['dense_2[0][0]']             \n",
      "                                                                                                  \n",
      " concatenate (Concatenate)   (None, 38)                   0         ['input_1[0][0]',             \n",
      "                                                                     'dense_3[0][0]']             \n",
      "                                                                                                  \n",
      " dense_4 (Dense)             (None, 1)                    39        ['concatenate[0][0]']         \n",
      "                                                                                                  \n",
      "==================================================================================================\n",
      "Total params: 1239 (4.84 KB)\n",
      "Trainable params: 1239 (4.84 KB)\n",
      "Non-trainable params: 0 (0.00 Byte)\n",
      "__________________________________________________________________________________________________\n"
     ]
    }
   ],
   "source": [
    "model.summary()"
   ],
   "metadata": {
    "collapsed": false,
    "ExecuteTime": {
     "end_time": "2024-01-21T10:42:47.773176900Z",
     "start_time": "2024-01-21T10:42:47.726629800Z"
    }
   },
   "id": "69904d960c2ae55b"
  },
  {
   "cell_type": "code",
   "execution_count": 8,
   "outputs": [
    {
     "name": "stdout",
     "output_type": "stream",
     "text": [
      "Epoch 1/20\n",
      "363/363 [==============================] - 1s 1ms/step - loss: 1.9832 - val_loss: 1.5853\n",
      "Epoch 2/20\n",
      "363/363 [==============================] - 0s 871us/step - loss: 0.7180 - val_loss: 0.6595\n",
      "Epoch 3/20\n",
      "363/363 [==============================] - 0s 892us/step - loss: 0.6558 - val_loss: 0.6551\n",
      "Epoch 4/20\n",
      "363/363 [==============================] - 0s 901us/step - loss: 0.6235 - val_loss: 0.5932\n",
      "Epoch 5/20\n",
      "363/363 [==============================] - 0s 901us/step - loss: 0.5968 - val_loss: 0.5738\n",
      "Epoch 6/20\n",
      "363/363 [==============================] - 0s 854us/step - loss: 0.5745 - val_loss: 0.5580\n",
      "Epoch 7/20\n",
      "363/363 [==============================] - 0s 917us/step - loss: 0.5570 - val_loss: 0.5261\n",
      "Epoch 8/20\n",
      "363/363 [==============================] - 0s 896us/step - loss: 0.5413 - val_loss: 0.5270\n",
      "Epoch 9/20\n",
      "363/363 [==============================] - 0s 830us/step - loss: 0.5263 - val_loss: 0.5023\n",
      "Epoch 10/20\n",
      "363/363 [==============================] - 0s 853us/step - loss: 0.5136 - val_loss: 0.4833\n",
      "Epoch 11/20\n",
      "363/363 [==============================] - 0s 831us/step - loss: 0.5023 - val_loss: 0.5194\n",
      "Epoch 12/20\n",
      "363/363 [==============================] - 0s 859us/step - loss: 0.4913 - val_loss: 0.4756\n",
      "Epoch 13/20\n",
      "363/363 [==============================] - 0s 864us/step - loss: 0.4817 - val_loss: 0.4560\n",
      "Epoch 14/20\n",
      "363/363 [==============================] - 0s 865us/step - loss: 0.4720 - val_loss: 0.4417\n",
      "Epoch 15/20\n",
      "363/363 [==============================] - 0s 843us/step - loss: 0.4636 - val_loss: 0.4433\n",
      "Epoch 16/20\n",
      "363/363 [==============================] - 0s 833us/step - loss: 0.4557 - val_loss: 0.4246\n",
      "Epoch 17/20\n",
      "363/363 [==============================] - 0s 842us/step - loss: 0.4494 - val_loss: 0.4300\n",
      "Epoch 18/20\n",
      "363/363 [==============================] - 0s 855us/step - loss: 0.4428 - val_loss: 0.4363\n",
      "Epoch 19/20\n",
      "363/363 [==============================] - 0s 841us/step - loss: 0.4367 - val_loss: 0.4072\n",
      "Epoch 20/20\n",
      "363/363 [==============================] - 0s 841us/step - loss: 0.4320 - val_loss: 0.4384\n",
      "162/162 [==============================] - 0s 569us/step - loss: 0.4297\n",
      "1/1 [==============================] - 0s 34ms/step\n"
     ]
    }
   ],
   "source": [
    "model.compile(loss=\"mean_squared_error\", optimizer=keras.optimizers.SGD(learning_rate=1e-3))\n",
    "history = model.fit(X_train, y_train, epochs=20,\n",
    "                    validation_data=(X_valid, y_valid))\n",
    "mse_test = model.evaluate(X_test, y_test)\n",
    "y_pred = model.predict(X_new)"
   ],
   "metadata": {
    "collapsed": false,
    "ExecuteTime": {
     "end_time": "2024-01-21T10:42:54.580967200Z",
     "start_time": "2024-01-21T10:42:47.743646600Z"
    }
   },
   "id": "8135db4916da9de2"
  },
  {
   "cell_type": "code",
   "execution_count": 9,
   "outputs": [],
   "source": [
    "input_A = keras.layers.Input(shape=[5], name=\"wide_input\")\n",
    "input_B = keras.layers.Input(shape=[6], name=\"deep_input\")\n",
    "hidden1 = keras.layers.Dense(30, activation=\"relu\")(input_B)\n",
    "hidden2 = keras.layers.Dense(30, activation=\"relu\")(hidden1)\n",
    "concat = keras.layers.concatenate([input_A, hidden2])\n",
    "output = keras.layers.Dense(1, name=\"output\")(concat)\n",
    "model = keras.models.Model(inputs=[input_A, input_B], outputs=[output])"
   ],
   "metadata": {
    "collapsed": false,
    "ExecuteTime": {
     "end_time": "2024-01-21T10:42:54.609499800Z",
     "start_time": "2024-01-21T10:42:54.575714500Z"
    }
   },
   "id": "57cedcc20ee88fe7"
  },
  {
   "cell_type": "code",
   "execution_count": 10,
   "outputs": [
    {
     "name": "stdout",
     "output_type": "stream",
     "text": [
      "Epoch 1/20\n",
      "363/363 [==============================] - 1s 1ms/step - loss: 2.0031 - val_loss: 1.5631\n",
      "Epoch 2/20\n",
      "363/363 [==============================] - 0s 898us/step - loss: 0.7109 - val_loss: 0.7300\n",
      "Epoch 3/20\n",
      "363/363 [==============================] - 0s 929us/step - loss: 0.6103 - val_loss: 0.5652\n",
      "Epoch 4/20\n",
      "363/363 [==============================] - 0s 884us/step - loss: 0.5547 - val_loss: 0.5186\n",
      "Epoch 5/20\n",
      "363/363 [==============================] - 0s 924us/step - loss: 0.5158 - val_loss: 0.4845\n",
      "Epoch 6/20\n",
      "363/363 [==============================] - 0s 882us/step - loss: 0.4875 - val_loss: 0.4598\n",
      "Epoch 7/20\n",
      "363/363 [==============================] - 0s 901us/step - loss: 0.4654 - val_loss: 0.4431\n",
      "Epoch 8/20\n",
      "363/363 [==============================] - 0s 905us/step - loss: 0.4517 - val_loss: 0.4324\n",
      "Epoch 9/20\n",
      "363/363 [==============================] - 0s 868us/step - loss: 0.4432 - val_loss: 0.4293\n",
      "Epoch 10/20\n",
      "363/363 [==============================] - 0s 867us/step - loss: 0.4379 - val_loss: 0.4289\n",
      "Epoch 11/20\n",
      "363/363 [==============================] - 0s 857us/step - loss: 0.4345 - val_loss: 0.4278\n",
      "Epoch 12/20\n",
      "363/363 [==============================] - 0s 855us/step - loss: 0.4314 - val_loss: 0.4326\n",
      "Epoch 13/20\n",
      "363/363 [==============================] - 0s 875us/step - loss: 0.4289 - val_loss: 0.4313\n",
      "Epoch 14/20\n",
      "363/363 [==============================] - 0s 890us/step - loss: 0.4270 - val_loss: 0.4243\n",
      "Epoch 15/20\n",
      "363/363 [==============================] - 0s 852us/step - loss: 0.4249 - val_loss: 0.4244\n",
      "Epoch 16/20\n",
      "363/363 [==============================] - 0s 884us/step - loss: 0.4232 - val_loss: 0.4186\n",
      "Epoch 17/20\n",
      "363/363 [==============================] - 0s 866us/step - loss: 0.4217 - val_loss: 0.4203\n",
      "Epoch 18/20\n",
      "363/363 [==============================] - 0s 863us/step - loss: 0.4204 - val_loss: 0.4183\n",
      "Epoch 19/20\n",
      "363/363 [==============================] - 0s 882us/step - loss: 0.4186 - val_loss: 0.4169\n",
      "Epoch 20/20\n",
      "363/363 [==============================] - 0s 861us/step - loss: 0.4176 - val_loss: 0.4276\n",
      "162/162 [==============================] - 0s 603us/step - loss: 0.4089\n",
      "1/1 [==============================] - 0s 36ms/step\n"
     ]
    }
   ],
   "source": [
    "model.compile(loss=\"mse\", optimizer=keras.optimizers.SGD(learning_rate=1e-3))\n",
    "\n",
    "X_train_A, X_train_B = X_train[:, :5], X_train[:, 2:]\n",
    "X_valid_A, X_valid_B = X_valid[:, :5], X_valid[:, 2:]\n",
    "X_test_A, X_test_B = X_test[:, :5], X_test[:, 2:]\n",
    "X_new_A, X_new_B = X_test_A[:3], X_test_B[:3]\n",
    "\n",
    "history = model.fit((X_train_A, X_train_B), y_train, epochs=20,\n",
    "                    validation_data=((X_valid_A, X_valid_B), y_valid))\n",
    "mse_test = model.evaluate((X_test_A, X_test_B), y_test)\n",
    "y_pred = model.predict((X_new_A, X_new_B))"
   ],
   "metadata": {
    "collapsed": false,
    "ExecuteTime": {
     "end_time": "2024-01-21T10:43:01.556950Z",
     "start_time": "2024-01-21T10:42:54.607497700Z"
    }
   },
   "id": "7027afe16dca353a"
  },
  {
   "cell_type": "code",
   "execution_count": 11,
   "outputs": [],
   "source": [
    "input_A = keras.layers.Input(shape=[5], name=\"wide_input\")\n",
    "input_B = keras.layers.Input(shape=[6], name=\"deep_input\")\n",
    "hidden1 = keras.layers.Dense(30, activation=\"relu\")(input_B)\n",
    "hidden2 = keras.layers.Dense(30, activation=\"relu\")(hidden1)\n",
    "concat = keras.layers.concatenate([input_A, hidden2])\n",
    "output = keras.layers.Dense(1, name=\"main_output\")(concat)\n",
    "aux_output = keras.layers.Dense(1, name=\"aux_output\")(hidden2)\n",
    "model = keras.models.Model(inputs=[input_A, input_B],\n",
    "                           outputs=[output, aux_output])"
   ],
   "metadata": {
    "collapsed": false,
    "ExecuteTime": {
     "end_time": "2024-01-21T10:43:01.606013500Z",
     "start_time": "2024-01-21T10:43:01.558951Z"
    }
   },
   "id": "d8b4b1f4ff853265"
  },
  {
   "cell_type": "code",
   "execution_count": 12,
   "outputs": [],
   "source": [
    "model.compile(loss=[\"mse\", \"mse\"], loss_weights=[0.9, 0.1], optimizer=keras.optimizers.SGD(learning_rate=1e-3), metrics=['accuracy'])"
   ],
   "metadata": {
    "collapsed": false,
    "ExecuteTime": {
     "end_time": "2024-01-21T10:43:01.622027700Z",
     "start_time": "2024-01-21T10:43:01.606013500Z"
    }
   },
   "id": "56207d8a46771823"
  },
  {
   "cell_type": "code",
   "execution_count": 13,
   "outputs": [
    {
     "name": "stdout",
     "output_type": "stream",
     "text": [
      "Epoch 1/20\n",
      "363/363 [==============================] - 1s 1ms/step - loss: 2.5434 - main_output_loss: 2.2991 - aux_output_loss: 4.7425 - main_output_accuracy: 0.0028 - aux_output_accuracy: 0.0013 - val_loss: 1.5818 - val_main_output_loss: 1.3162 - val_aux_output_loss: 3.9721 - val_main_output_accuracy: 0.0044 - val_aux_output_accuracy: 0.0026\n",
      "Epoch 2/20\n",
      "363/363 [==============================] - 0s 1ms/step - loss: 1.0391 - main_output_loss: 0.8111 - aux_output_loss: 3.0905 - main_output_accuracy: 0.0029 - aux_output_accuracy: 0.0025 - val_loss: 1.0292 - val_main_output_loss: 0.7122 - val_aux_output_loss: 3.8821 - val_main_output_accuracy: 0.0044 - val_aux_output_accuracy: 0.0044\n",
      "Epoch 3/20\n",
      "363/363 [==============================] - 0s 1ms/step - loss: 0.8154 - main_output_loss: 0.6583 - aux_output_loss: 2.2290 - main_output_accuracy: 0.0028 - aux_output_accuracy: 0.0029 - val_loss: 0.9953 - val_main_output_loss: 0.6601 - val_aux_output_loss: 4.0121 - val_main_output_accuracy: 0.0044 - val_aux_output_accuracy: 0.0044\n",
      "Epoch 4/20\n",
      "363/363 [==============================] - 0s 1ms/step - loss: 0.7221 - main_output_loss: 0.6003 - aux_output_loss: 1.8185 - main_output_accuracy: 0.0028 - aux_output_accuracy: 0.0029 - val_loss: 0.9357 - val_main_output_loss: 0.5684 - val_aux_output_loss: 4.2408 - val_main_output_accuracy: 0.0044 - val_aux_output_accuracy: 0.0044\n",
      "Epoch 5/20\n",
      "363/363 [==============================] - 0s 985us/step - loss: 0.6704 - main_output_loss: 0.5647 - aux_output_loss: 1.6217 - main_output_accuracy: 0.0027 - aux_output_accuracy: 0.0029 - val_loss: 0.8896 - val_main_output_loss: 0.5343 - val_aux_output_loss: 4.0873 - val_main_output_accuracy: 0.0044 - val_aux_output_accuracy: 0.0044\n",
      "Epoch 6/20\n",
      "363/363 [==============================] - 0s 1ms/step - loss: 0.6349 - main_output_loss: 0.5367 - aux_output_loss: 1.5186 - main_output_accuracy: 0.0027 - aux_output_accuracy: 0.0029 - val_loss: 0.8285 - val_main_output_loss: 0.5210 - val_aux_output_loss: 3.5955 - val_main_output_accuracy: 0.0044 - val_aux_output_accuracy: 0.0044\n",
      "Epoch 7/20\n",
      "363/363 [==============================] - 0s 1ms/step - loss: 0.6091 - main_output_loss: 0.5157 - aux_output_loss: 1.4493 - main_output_accuracy: 0.0027 - aux_output_accuracy: 0.0029 - val_loss: 0.7743 - val_main_output_loss: 0.5065 - val_aux_output_loss: 3.1844 - val_main_output_accuracy: 0.0044 - val_aux_output_accuracy: 0.0044\n",
      "Epoch 8/20\n",
      "363/363 [==============================] - 0s 962us/step - loss: 0.5887 - main_output_loss: 0.4988 - aux_output_loss: 1.3976 - main_output_accuracy: 0.0027 - aux_output_accuracy: 0.0029 - val_loss: 0.7159 - val_main_output_loss: 0.4705 - val_aux_output_loss: 2.9244 - val_main_output_accuracy: 0.0044 - val_aux_output_accuracy: 0.0044\n",
      "Epoch 9/20\n",
      "363/363 [==============================] - 0s 1ms/step - loss: 0.5712 - main_output_loss: 0.4838 - aux_output_loss: 1.3584 - main_output_accuracy: 0.0027 - aux_output_accuracy: 0.0029 - val_loss: 0.6655 - val_main_output_loss: 0.4563 - val_aux_output_loss: 2.5490 - val_main_output_accuracy: 0.0044 - val_aux_output_accuracy: 0.0044\n",
      "Epoch 10/20\n",
      "363/363 [==============================] - 0s 1ms/step - loss: 0.5574 - main_output_loss: 0.4724 - aux_output_loss: 1.3227 - main_output_accuracy: 0.0027 - aux_output_accuracy: 0.0029 - val_loss: 0.6258 - val_main_output_loss: 0.4527 - val_aux_output_loss: 2.1844 - val_main_output_accuracy: 0.0044 - val_aux_output_accuracy: 0.0044\n",
      "Epoch 11/20\n",
      "363/363 [==============================] - 0s 1ms/step - loss: 0.5463 - main_output_loss: 0.4637 - aux_output_loss: 1.2902 - main_output_accuracy: 0.0028 - aux_output_accuracy: 0.0029 - val_loss: 0.6022 - val_main_output_loss: 0.4417 - val_aux_output_loss: 2.0462 - val_main_output_accuracy: 0.0044 - val_aux_output_accuracy: 0.0044\n",
      "Epoch 12/20\n",
      "363/363 [==============================] - 0s 986us/step - loss: 0.5368 - main_output_loss: 0.4562 - aux_output_loss: 1.2621 - main_output_accuracy: 0.0028 - aux_output_accuracy: 0.0029 - val_loss: 0.5650 - val_main_output_loss: 0.4293 - val_aux_output_loss: 1.7861 - val_main_output_accuracy: 0.0044 - val_aux_output_accuracy: 0.0044\n",
      "Epoch 13/20\n",
      "363/363 [==============================] - 0s 982us/step - loss: 0.5287 - main_output_loss: 0.4503 - aux_output_loss: 1.2343 - main_output_accuracy: 0.0028 - aux_output_accuracy: 0.0029 - val_loss: 0.5540 - val_main_output_loss: 0.4283 - val_aux_output_loss: 1.6852 - val_main_output_accuracy: 0.0044 - val_aux_output_accuracy: 0.0044\n",
      "Epoch 14/20\n",
      "363/363 [==============================] - 0s 974us/step - loss: 0.5218 - main_output_loss: 0.4454 - aux_output_loss: 1.2091 - main_output_accuracy: 0.0028 - aux_output_accuracy: 0.0029 - val_loss: 0.5305 - val_main_output_loss: 0.4187 - val_aux_output_loss: 1.5365 - val_main_output_accuracy: 0.0044 - val_aux_output_accuracy: 0.0044\n",
      "Epoch 15/20\n",
      "363/363 [==============================] - 0s 968us/step - loss: 0.5157 - main_output_loss: 0.4414 - aux_output_loss: 1.1847 - main_output_accuracy: 0.0028 - aux_output_accuracy: 0.0029 - val_loss: 0.5265 - val_main_output_loss: 0.4225 - val_aux_output_loss: 1.4622 - val_main_output_accuracy: 0.0044 - val_aux_output_accuracy: 0.0044\n",
      "Epoch 16/20\n",
      "363/363 [==============================] - 0s 987us/step - loss: 0.5103 - main_output_loss: 0.4379 - aux_output_loss: 1.1620 - main_output_accuracy: 0.0028 - aux_output_accuracy: 0.0029 - val_loss: 0.5048 - val_main_output_loss: 0.4112 - val_aux_output_loss: 1.3476 - val_main_output_accuracy: 0.0044 - val_aux_output_accuracy: 0.0044\n",
      "Epoch 17/20\n",
      "363/363 [==============================] - 0s 987us/step - loss: 0.5055 - main_output_loss: 0.4350 - aux_output_loss: 1.1394 - main_output_accuracy: 0.0027 - aux_output_accuracy: 0.0029 - val_loss: 0.5028 - val_main_output_loss: 0.4147 - val_aux_output_loss: 1.2961 - val_main_output_accuracy: 0.0044 - val_aux_output_accuracy: 0.0044\n",
      "Epoch 18/20\n",
      "363/363 [==============================] - 0s 1ms/step - loss: 0.5010 - main_output_loss: 0.4325 - aux_output_loss: 1.1177 - main_output_accuracy: 0.0027 - aux_output_accuracy: 0.0029 - val_loss: 0.4931 - val_main_output_loss: 0.4107 - val_aux_output_loss: 1.2341 - val_main_output_accuracy: 0.0044 - val_aux_output_accuracy: 0.0044\n",
      "Epoch 19/20\n",
      "363/363 [==============================] - 0s 966us/step - loss: 0.4969 - main_output_loss: 0.4302 - aux_output_loss: 1.0974 - main_output_accuracy: 0.0027 - aux_output_accuracy: 0.0029 - val_loss: 0.4840 - val_main_output_loss: 0.4071 - val_aux_output_loss: 1.1753 - val_main_output_accuracy: 0.0044 - val_aux_output_accuracy: 0.0044\n",
      "Epoch 20/20\n",
      "363/363 [==============================] - 0s 958us/step - loss: 0.4933 - main_output_loss: 0.4283 - aux_output_loss: 1.0777 - main_output_accuracy: 0.0026 - aux_output_accuracy: 0.0029 - val_loss: 0.5121 - val_main_output_loss: 0.4395 - val_aux_output_loss: 1.1656 - val_main_output_accuracy: 0.0044 - val_aux_output_accuracy: 0.0044\n"
     ]
    }
   ],
   "source": [
    "history = model.fit([X_train_A, X_train_B], [y_train, y_train], epochs=20,\n",
    "                    validation_data=([X_valid_A, X_valid_B], [y_valid, y_valid]))"
   ],
   "metadata": {
    "collapsed": false,
    "ExecuteTime": {
     "end_time": "2024-01-21T10:43:09.409180200Z",
     "start_time": "2024-01-21T10:43:01.622027700Z"
    }
   },
   "id": "2f750974495c3c9f"
  },
  {
   "cell_type": "markdown",
   "source": [
    "# The subclassing API"
   ],
   "metadata": {
    "collapsed": false
   },
   "id": "b753141e6b3a4471"
  },
  {
   "cell_type": "code",
   "execution_count": 14,
   "outputs": [],
   "source": [
    "class WideAndDeepModel(keras.models.Model):\n",
    "    def __init__(self, units=30, activation=\"relu\", **kwargs):\n",
    "        super().__init__(**kwargs)\n",
    "        self.hidden1 = keras.layers.Dense(units, activation=activation)\n",
    "        self.hidden2 = keras.layers.Dense(units, activation=activation)\n",
    "        self.main_output = keras.layers.Dense(1)\n",
    "        self.aux_output = keras.layers.Dense(1)\n",
    "        \n",
    "    def call(self, inputs):\n",
    "        input_A, input_B = inputs\n",
    "        hidden1 = self.hidden1(input_B)\n",
    "        hidden2 = self.hidden2(hidden1)\n",
    "        concat = keras.layers.concatenate([input_A, hidden2])\n",
    "        main_output = self.main_output(concat)\n",
    "        aux_output = self.aux_output(hidden2)\n",
    "        return main_output, aux_output\n",
    "\n",
    "model = WideAndDeepModel(30, activation=\"relu\")"
   ],
   "metadata": {
    "collapsed": false,
    "ExecuteTime": {
     "end_time": "2024-01-21T10:43:09.434202600Z",
     "start_time": "2024-01-21T10:43:09.409180200Z"
    }
   },
   "id": "419285544d86d169"
  },
  {
   "cell_type": "code",
   "execution_count": 15,
   "outputs": [
    {
     "name": "stdout",
     "output_type": "stream",
     "text": [
      "Epoch 1/10\n",
      "363/363 [==============================] - 1s 1ms/step - loss: 2.9400 - output_1_loss: 2.7196 - output_2_loss: 4.9237 - val_loss: 1.9503 - val_output_1_loss: 1.5651 - val_output_2_loss: 5.4173\n",
      "Epoch 2/10\n",
      "363/363 [==============================] - 0s 962us/step - loss: 1.1766 - output_1_loss: 0.9478 - output_2_loss: 3.2363 - val_loss: 1.3297 - val_output_1_loss: 0.8789 - val_output_2_loss: 5.3871\n",
      "Epoch 3/10\n",
      "363/363 [==============================] - 0s 976us/step - loss: 0.8980 - output_1_loss: 0.7434 - output_2_loss: 2.2892 - val_loss: 1.1166 - val_output_1_loss: 0.6710 - val_output_2_loss: 5.1274\n",
      "Epoch 4/10\n",
      "363/363 [==============================] - 0s 964us/step - loss: 0.7881 - output_1_loss: 0.6711 - output_2_loss: 1.8413 - val_loss: 1.0340 - val_output_1_loss: 0.6287 - val_output_2_loss: 4.6810\n",
      "Epoch 5/10\n",
      "363/363 [==============================] - 0s 978us/step - loss: 0.7312 - output_1_loss: 0.6333 - output_2_loss: 1.6120 - val_loss: 0.9613 - val_output_1_loss: 0.6104 - val_output_2_loss: 4.1195\n",
      "Epoch 6/10\n",
      "363/363 [==============================] - 0s 995us/step - loss: 0.6921 - output_1_loss: 0.6046 - output_2_loss: 1.4797 - val_loss: 0.8907 - val_output_1_loss: 0.6018 - val_output_2_loss: 3.4909\n",
      "Epoch 7/10\n",
      "363/363 [==============================] - 0s 971us/step - loss: 0.6646 - output_1_loss: 0.5835 - output_2_loss: 1.3948 - val_loss: 0.8417 - val_output_1_loss: 0.6118 - val_output_2_loss: 2.9111\n",
      "Epoch 8/10\n",
      "363/363 [==============================] - 0s 929us/step - loss: 0.6411 - output_1_loss: 0.5646 - output_2_loss: 1.3293 - val_loss: 0.7626 - val_output_1_loss: 0.5655 - val_output_2_loss: 2.5361\n",
      "Epoch 9/10\n",
      "363/363 [==============================] - 0s 930us/step - loss: 0.6206 - output_1_loss: 0.5473 - output_2_loss: 1.2806 - val_loss: 0.7129 - val_output_1_loss: 0.5479 - val_output_2_loss: 2.1980\n",
      "Epoch 10/10\n",
      "363/363 [==============================] - 0s 922us/step - loss: 0.6031 - output_1_loss: 0.5322 - output_2_loss: 1.2410 - val_loss: 0.6946 - val_output_1_loss: 0.5583 - val_output_2_loss: 1.9214\n",
      "162/162 [==============================] - 0s 606us/step - loss: 0.5883 - output_1_loss: 0.5181 - output_2_loss: 1.2205\n",
      "1/1 [==============================] - 0s 41ms/step\n"
     ]
    }
   ],
   "source": [
    "model.compile(loss=\"mse\", loss_weights=[0.9, 0.1], optimizer=keras.optimizers.SGD(learning_rate=1e-3))\n",
    "history = model.fit((X_train_A, X_train_B), (y_train, y_train), epochs=10,\n",
    "                    validation_data=((X_valid_A, X_valid_B), (y_valid, y_valid)))\n",
    "total_loss, main_loss, aux_loss = model.evaluate((X_test_A, X_test_B), (y_test, y_test))\n",
    "y_pred_main, y_pred_aux = model.predict((X_new_A, X_new_B))"
   ],
   "metadata": {
    "collapsed": false,
    "ExecuteTime": {
     "end_time": "2024-01-21T10:43:13.656130900Z",
     "start_time": "2024-01-21T10:43:09.424193200Z"
    }
   },
   "id": "6c1b77a7751ef9b9"
  },
  {
   "cell_type": "markdown",
   "source": [
    "# Saving and Restoring"
   ],
   "metadata": {
    "collapsed": false
   },
   "id": "cf90b0f0212e14ba"
  },
  {
   "cell_type": "code",
   "execution_count": 16,
   "outputs": [],
   "source": [
    "model = keras.models.Sequential([\n",
    "    keras.layers.Dense(30, activation=\"relu\", input_shape=[8]),\n",
    "    keras.layers.Dense(30, activation=\"relu\"),\n",
    "    keras.layers.Dense(1)\n",
    "])    "
   ],
   "metadata": {
    "collapsed": false,
    "ExecuteTime": {
     "end_time": "2024-01-21T10:43:13.689576600Z",
     "start_time": "2024-01-21T10:43:13.657132900Z"
    }
   },
   "id": "7f6769949a943ad1"
  },
  {
   "cell_type": "code",
   "execution_count": 17,
   "outputs": [
    {
     "name": "stdout",
     "output_type": "stream",
     "text": [
      "Epoch 1/10\n",
      "363/363 [==============================] - 1s 990us/step - loss: 1.9720 - val_loss: 0.7818\n",
      "Epoch 2/10\n",
      "363/363 [==============================] - 0s 818us/step - loss: 0.7458 - val_loss: 0.7713\n",
      "Epoch 3/10\n",
      "363/363 [==============================] - 0s 806us/step - loss: 0.6768 - val_loss: 0.6017\n",
      "Epoch 4/10\n",
      "363/363 [==============================] - 0s 841us/step - loss: 0.6234 - val_loss: 0.5748\n",
      "Epoch 5/10\n",
      "363/363 [==============================] - 0s 847us/step - loss: 0.5823 - val_loss: 0.5341\n",
      "Epoch 6/10\n",
      "363/363 [==============================] - 0s 820us/step - loss: 0.5465 - val_loss: 0.4974\n",
      "Epoch 7/10\n",
      "363/363 [==============================] - 0s 825us/step - loss: 0.5174 - val_loss: 0.4695\n",
      "Epoch 8/10\n",
      "363/363 [==============================] - 0s 816us/step - loss: 0.4928 - val_loss: 0.4651\n",
      "Epoch 9/10\n",
      "363/363 [==============================] - 0s 819us/step - loss: 0.4727 - val_loss: 0.4469\n",
      "Epoch 10/10\n",
      "363/363 [==============================] - 0s 842us/step - loss: 0.4565 - val_loss: 0.4506\n",
      "162/162 [==============================] - 0s 572us/step - loss: 0.4398\n"
     ]
    }
   ],
   "source": [
    "model.compile(loss=\"mse\", optimizer=keras.optimizers.SGD(learning_rate=1e-3))\n",
    "history = model.fit(X_train, y_train, epochs=10, validation_data=(X_valid, y_valid))\n",
    "mse_test = model.evaluate(X_test, y_test)"
   ],
   "metadata": {
    "collapsed": false,
    "ExecuteTime": {
     "end_time": "2024-01-21T10:43:17.138243800Z",
     "start_time": "2024-01-21T10:43:13.689576600Z"
    }
   },
   "id": "7bdf5db275307a1e"
  },
  {
   "cell_type": "code",
   "execution_count": 18,
   "outputs": [],
   "source": [
    "model.save(\"my_keras_model.keras\")"
   ],
   "metadata": {
    "collapsed": false,
    "ExecuteTime": {
     "end_time": "2024-01-21T10:43:17.170274600Z",
     "start_time": "2024-01-21T10:43:17.137243Z"
    }
   },
   "id": "cb6b43958c26a01e"
  },
  {
   "cell_type": "code",
   "execution_count": 19,
   "outputs": [],
   "source": [
    "model = keras.models.load_model(\"my_keras_model.h5\")"
   ],
   "metadata": {
    "collapsed": false,
    "ExecuteTime": {
     "end_time": "2024-01-21T10:43:17.216820900Z",
     "start_time": "2024-01-21T10:43:17.170274600Z"
    }
   },
   "id": "6d76f45589d0cb54"
  },
  {
   "cell_type": "code",
   "execution_count": 20,
   "outputs": [
    {
     "name": "stdout",
     "output_type": "stream",
     "text": [
      "WARNING:tensorflow:5 out of the last 5 calls to <function Model.make_predict_function.<locals>.predict_function at 0x00000268EB7F8700> triggered tf.function retracing. Tracing is expensive and the excessive number of tracings could be due to (1) creating @tf.function repeatedly in a loop, (2) passing tensors with different shapes, (3) passing Python objects instead of tensors. For (1), please define your @tf.function outside of the loop. For (2), @tf.function has reduce_retracing=True option that can avoid unnecessary retracing. For (3), please refer to https://www.tensorflow.org/guide/function#controlling_retracing and https://www.tensorflow.org/api_docs/python/tf/function for  more details.\n",
      "1/1 [==============================] - 0s 32ms/step\n"
     ]
    },
    {
     "data": {
      "text/plain": "array([[0.8855833],\n       [1.3628354],\n       [3.1775024],\n       [2.3753927]], dtype=float32)"
     },
     "execution_count": 20,
     "metadata": {},
     "output_type": "execute_result"
    }
   ],
   "source": [
    "model.predict(X_new)"
   ],
   "metadata": {
    "collapsed": false,
    "ExecuteTime": {
     "end_time": "2024-01-21T10:43:17.284387400Z",
     "start_time": "2024-01-21T10:43:17.215819900Z"
    }
   },
   "id": "6d99400f8b42b3a3"
  },
  {
   "cell_type": "code",
   "execution_count": 21,
   "outputs": [],
   "source": [
    "model.save_weights(\"my_keras_weights.ckpt\")"
   ],
   "metadata": {
    "collapsed": false,
    "ExecuteTime": {
     "end_time": "2024-01-21T10:43:17.343441900Z",
     "start_time": "2024-01-21T10:43:17.279383400Z"
    }
   },
   "id": "3e8f1b53752ccfbf"
  },
  {
   "cell_type": "code",
   "execution_count": 22,
   "outputs": [
    {
     "data": {
      "text/plain": "<tensorflow.python.checkpoint.checkpoint.CheckpointLoadStatus at 0x268eb6f8f40>"
     },
     "execution_count": 22,
     "metadata": {},
     "output_type": "execute_result"
    }
   ],
   "source": [
    "model.load_weights(\"my_keras_weights.ckpt\")\n",
    "#model.weights"
   ],
   "metadata": {
    "collapsed": false,
    "ExecuteTime": {
     "end_time": "2024-01-21T10:43:17.362459600Z",
     "start_time": "2024-01-21T10:43:17.342439300Z"
    }
   },
   "id": "13659e4f92a7d385"
  },
  {
   "cell_type": "markdown",
   "source": [
    "# Using Callbacks during Training"
   ],
   "metadata": {
    "collapsed": false
   },
   "id": "d51a7edbfc89ba4e"
  },
  {
   "cell_type": "code",
   "execution_count": 23,
   "outputs": [],
   "source": [
    "model = keras.models.Sequential([\n",
    "    keras.layers.Dense(30, activation=\"relu\", input_shape=[8]),\n",
    "    keras.layers.Dense(30, activation=\"relu\"),\n",
    "    keras.layers.Dense(1)\n",
    "])    "
   ],
   "metadata": {
    "collapsed": false,
    "ExecuteTime": {
     "end_time": "2024-01-21T10:43:17.393992700Z",
     "start_time": "2024-01-21T10:43:17.358454200Z"
    }
   },
   "id": "217877978665e75d"
  },
  {
   "cell_type": "code",
   "execution_count": 25,
   "outputs": [
    {
     "name": "stdout",
     "output_type": "stream",
     "text": [
      "Epoch 1/10\n",
      "363/363 [==============================] - 1s 2ms/step - loss: 0.4585 - val_loss: 0.4444\n",
      "Epoch 2/10\n",
      "363/363 [==============================] - 0s 897us/step - loss: 0.4481 - val_loss: 0.4470\n",
      "Epoch 3/10\n",
      "363/363 [==============================] - 0s 864us/step - loss: 0.4396 - val_loss: 0.4318\n",
      "Epoch 4/10\n",
      "363/363 [==============================] - 0s 881us/step - loss: 0.4320 - val_loss: 0.4503\n",
      "Epoch 5/10\n",
      "363/363 [==============================] - 0s 910us/step - loss: 0.4263 - val_loss: 0.4289\n",
      "Epoch 6/10\n",
      "363/363 [==============================] - 0s 849us/step - loss: 0.4210 - val_loss: 0.4438\n",
      "Epoch 7/10\n",
      "363/363 [==============================] - 0s 867us/step - loss: 0.4167 - val_loss: 0.4494\n",
      "Epoch 8/10\n",
      "363/363 [==============================] - 0s 907us/step - loss: 0.4127 - val_loss: 0.4139\n",
      "Epoch 9/10\n",
      "363/363 [==============================] - 0s 861us/step - loss: 0.4091 - val_loss: 0.4270\n",
      "Epoch 10/10\n",
      "363/363 [==============================] - 0s 857us/step - loss: 0.4057 - val_loss: 0.4479\n",
      "162/162 [==============================] - 0s 588us/step - loss: 0.4398\n"
     ]
    }
   ],
   "source": [
    "model.compile(loss=\"mse\", optimizer=keras.optimizers.SGD(learning_rate=1e-3))\n",
    "checkpoint_cb = keras.callbacks.ModelCheckpoint(\"my_keras_model.h5\", save_best_only=True)\n",
    "history = model.fit(X_train, y_train, epochs=10,\n",
    "                    validation_data=(X_valid, y_valid),\n",
    "                    callbacks=[checkpoint_cb])\n",
    "model = keras.models.load_model(\"my_keras_model.keras\") # rollback to best model\n",
    "mse_test = model.evaluate(X_test, y_test)"
   ],
   "metadata": {
    "collapsed": false,
    "ExecuteTime": {
     "end_time": "2024-01-21T10:44:54.308333200Z",
     "start_time": "2024-01-21T10:44:50.404117900Z"
    }
   },
   "id": "50baa143b277c3de"
  },
  {
   "cell_type": "code",
   "execution_count": 26,
   "outputs": [
    {
     "name": "stdout",
     "output_type": "stream",
     "text": [
      "Epoch 1/100\n",
      "363/363 [==============================] - 1s 1ms/step - loss: 0.4436 - val_loss: 0.4343\n",
      "Epoch 2/100\n",
      "363/363 [==============================] - 0s 839us/step - loss: 0.4330 - val_loss: 0.4675\n",
      "Epoch 3/100\n",
      "363/363 [==============================] - 0s 910us/step - loss: 0.4246 - val_loss: 0.4557\n",
      "Epoch 4/100\n",
      "363/363 [==============================] - 0s 880us/step - loss: 0.4172 - val_loss: 0.4391\n",
      "Epoch 5/100\n",
      "363/363 [==============================] - 0s 858us/step - loss: 0.4117 - val_loss: 0.4029\n",
      "Epoch 6/100\n",
      "363/363 [==============================] - 0s 802us/step - loss: 0.4062 - val_loss: 0.4634\n",
      "Epoch 7/100\n",
      "363/363 [==============================] - 0s 819us/step - loss: 0.4025 - val_loss: 0.4161\n",
      "Epoch 8/100\n",
      "363/363 [==============================] - 0s 846us/step - loss: 0.3985 - val_loss: 0.3844\n",
      "Epoch 9/100\n",
      "363/363 [==============================] - 0s 811us/step - loss: 0.3952 - val_loss: 0.4165\n",
      "Epoch 10/100\n",
      "363/363 [==============================] - 0s 828us/step - loss: 0.3919 - val_loss: 0.4697\n",
      "Epoch 11/100\n",
      "363/363 [==============================] - 0s 834us/step - loss: 0.3898 - val_loss: 0.3642\n",
      "Epoch 12/100\n",
      "363/363 [==============================] - 0s 822us/step - loss: 0.3867 - val_loss: 0.5023\n",
      "Epoch 13/100\n",
      "363/363 [==============================] - 0s 835us/step - loss: 0.3851 - val_loss: 0.3859\n",
      "Epoch 14/100\n",
      "363/363 [==============================] - 0s 868us/step - loss: 0.3824 - val_loss: 0.3997\n",
      "Epoch 15/100\n",
      "363/363 [==============================] - 0s 835us/step - loss: 0.3803 - val_loss: 0.4152\n",
      "Epoch 16/100\n",
      "363/363 [==============================] - 0s 841us/step - loss: 0.3788 - val_loss: 0.3702\n",
      "Epoch 17/100\n",
      "363/363 [==============================] - 0s 828us/step - loss: 0.3769 - val_loss: 0.4514\n",
      "Epoch 18/100\n",
      "363/363 [==============================] - 0s 837us/step - loss: 0.3755 - val_loss: 0.4306\n",
      "Epoch 19/100\n",
      "363/363 [==============================] - 0s 828us/step - loss: 0.3738 - val_loss: 0.3989\n",
      "Epoch 20/100\n",
      "363/363 [==============================] - 0s 835us/step - loss: 0.3724 - val_loss: 0.5141\n",
      "Epoch 21/100\n",
      "363/363 [==============================] - 0s 829us/step - loss: 0.3715 - val_loss: 0.4162\n",
      "162/162 [==============================] - 0s 547us/step - loss: 0.3838\n"
     ]
    }
   ],
   "source": [
    "model.compile(loss=\"mse\", optimizer=keras.optimizers.SGD(learning_rate=1e-3))\n",
    "early_stopping_cb = keras.callbacks.EarlyStopping(patience=10,\n",
    "                                                  restore_best_weights=True)\n",
    "history = model.fit(X_train, y_train, epochs=100,\n",
    "                    validation_data=(X_valid, y_valid),\n",
    "                    callbacks=[checkpoint_cb, early_stopping_cb])\n",
    "mse_test = model.evaluate(X_test, y_test)"
   ],
   "metadata": {
    "collapsed": false,
    "ExecuteTime": {
     "end_time": "2024-01-21T10:45:02.329681900Z",
     "start_time": "2024-01-21T10:44:55.445114100Z"
    }
   },
   "id": "aacfa7c0e8bf0beb"
  },
  {
   "cell_type": "markdown",
   "source": [
    "# TensorBoard"
   ],
   "metadata": {
    "collapsed": false
   },
   "id": "70a60e7ab52313fc"
  },
  {
   "cell_type": "code",
   "execution_count": 27,
   "outputs": [
    {
     "data": {
      "text/plain": "'.\\\\my_logs\\\\run_2024_01_21-11_50_02'"
     },
     "execution_count": 27,
     "metadata": {},
     "output_type": "execute_result"
    }
   ],
   "source": [
    "import os\n",
    "root_logdir = os.path.join(os.curdir, \"my_logs\")\n",
    "\n",
    "def get_run_logdir():\n",
    "    import time\n",
    "    run_id = time.strftime(\"run_%Y_%m_%d-%H_%M_%S\")\n",
    "    return os.path.join(root_logdir, run_id)\n",
    "\n",
    "run_logdir = get_run_logdir()\n",
    "run_logdir"
   ],
   "metadata": {
    "collapsed": false,
    "ExecuteTime": {
     "end_time": "2024-01-21T10:50:02.832461900Z",
     "start_time": "2024-01-21T10:50:02.785419600Z"
    }
   },
   "id": "610b8459c47cfe42"
  },
  {
   "cell_type": "code",
   "execution_count": 28,
   "outputs": [],
   "source": [
    "odel = keras.models.Sequential([\n",
    "    keras.layers.Dense(30, activation=\"relu\", input_shape=[8]),\n",
    "    keras.layers.Dense(30, activation=\"relu\"),\n",
    "    keras.layers.Dense(1)\n",
    "])    \n",
    "model.compile(loss=\"mse\", optimizer=keras.optimizers.SGD(learning_rate=1e-3))"
   ],
   "metadata": {
    "collapsed": false,
    "ExecuteTime": {
     "end_time": "2024-01-21T10:51:10.684715400Z",
     "start_time": "2024-01-21T10:51:10.650180500Z"
    }
   },
   "id": "ec4afde9d0e5ec9d"
  },
  {
   "cell_type": "code",
   "execution_count": 29,
   "outputs": [
    {
     "name": "stdout",
     "output_type": "stream",
     "text": [
      "Epoch 1/30\n",
      "363/363 [==============================] - 1s 1ms/step - loss: 0.3869 - val_loss: 0.4079\n",
      "Epoch 2/30\n",
      "363/363 [==============================] - 0s 908us/step - loss: 0.3843 - val_loss: 0.4947\n",
      "Epoch 3/30\n",
      "363/363 [==============================] - 0s 915us/step - loss: 0.3828 - val_loss: 0.4165\n",
      "Epoch 4/30\n",
      "363/363 [==============================] - 0s 899us/step - loss: 0.3803 - val_loss: 0.3960\n",
      "Epoch 5/30\n",
      "363/363 [==============================] - 0s 901us/step - loss: 0.3787 - val_loss: 0.3847\n",
      "Epoch 6/30\n",
      "363/363 [==============================] - 0s 911us/step - loss: 0.3767 - val_loss: 0.4658\n",
      "Epoch 7/30\n",
      "363/363 [==============================] - 0s 893us/step - loss: 0.3756 - val_loss: 0.4079\n",
      "Epoch 8/30\n",
      "363/363 [==============================] - 0s 900us/step - loss: 0.3739 - val_loss: 0.3822\n",
      "Epoch 9/30\n",
      "363/363 [==============================] - 0s 907us/step - loss: 0.3725 - val_loss: 0.4118\n",
      "Epoch 10/30\n",
      "363/363 [==============================] - 0s 897us/step - loss: 0.3710 - val_loss: 0.4802\n",
      "Epoch 11/30\n",
      "363/363 [==============================] - 0s 929us/step - loss: 0.3704 - val_loss: 0.3498\n",
      "Epoch 12/30\n",
      "363/363 [==============================] - 0s 907us/step - loss: 0.3689 - val_loss: 0.5051\n",
      "Epoch 13/30\n",
      "363/363 [==============================] - 0s 886us/step - loss: 0.3682 - val_loss: 0.3846\n",
      "Epoch 14/30\n",
      "363/363 [==============================] - 0s 900us/step - loss: 0.3668 - val_loss: 0.3913\n",
      "Epoch 15/30\n",
      "363/363 [==============================] - 0s 924us/step - loss: 0.3656 - val_loss: 0.4164\n",
      "Epoch 16/30\n",
      "363/363 [==============================] - 0s 985us/step - loss: 0.3650 - val_loss: 0.3476\n",
      "Epoch 17/30\n",
      "363/363 [==============================] - 0s 900us/step - loss: 0.3639 - val_loss: 0.4397\n",
      "Epoch 18/30\n",
      "363/363 [==============================] - 0s 900us/step - loss: 0.3630 - val_loss: 0.4090\n",
      "Epoch 19/30\n",
      "363/363 [==============================] - 0s 899us/step - loss: 0.3618 - val_loss: 0.3821\n",
      "Epoch 20/30\n",
      "363/363 [==============================] - 0s 916us/step - loss: 0.3610 - val_loss: 0.4958\n",
      "Epoch 21/30\n",
      "363/363 [==============================] - 0s 903us/step - loss: 0.3605 - val_loss: 0.3838\n",
      "Epoch 22/30\n",
      "363/363 [==============================] - 0s 912us/step - loss: 0.3594 - val_loss: 0.4612\n",
      "Epoch 23/30\n",
      "363/363 [==============================] - 0s 946us/step - loss: 0.3589 - val_loss: 0.3414\n",
      "Epoch 24/30\n",
      "363/363 [==============================] - 0s 899us/step - loss: 0.3581 - val_loss: 0.4096\n",
      "Epoch 25/30\n",
      "363/363 [==============================] - 0s 899us/step - loss: 0.3570 - val_loss: 0.4692\n",
      "Epoch 26/30\n",
      "363/363 [==============================] - 0s 899us/step - loss: 0.3566 - val_loss: 0.4080\n",
      "Epoch 27/30\n",
      "363/363 [==============================] - 0s 926us/step - loss: 0.3560 - val_loss: 0.3385\n",
      "Epoch 28/30\n",
      "363/363 [==============================] - 0s 902us/step - loss: 0.3553 - val_loss: 0.4205\n",
      "Epoch 29/30\n",
      "363/363 [==============================] - 0s 901us/step - loss: 0.3547 - val_loss: 0.3623\n",
      "Epoch 30/30\n",
      "363/363 [==============================] - 0s 901us/step - loss: 0.3538 - val_loss: 0.4521\n"
     ]
    }
   ],
   "source": [
    "tensorboard_cb = keras.callbacks.TensorBoard(run_logdir)\n",
    "history = model.fit(X_train, y_train, epochs=30,\n",
    "                    validation_data=(X_valid, y_valid),\n",
    "                    callbacks=[checkpoint_cb, tensorboard_cb])"
   ],
   "metadata": {
    "collapsed": false,
    "ExecuteTime": {
     "end_time": "2024-01-21T10:51:29.689256900Z",
     "start_time": "2024-01-21T10:51:19.384479Z"
    }
   },
   "id": "5369280180702273"
  }
 ],
 "metadata": {
  "kernelspec": {
   "display_name": "Python 3",
   "language": "python",
   "name": "python3"
  },
  "language_info": {
   "codemirror_mode": {
    "name": "ipython",
    "version": 2
   },
   "file_extension": ".py",
   "mimetype": "text/x-python",
   "name": "python",
   "nbconvert_exporter": "python",
   "pygments_lexer": "ipython2",
   "version": "2.7.6"
  }
 },
 "nbformat": 4,
 "nbformat_minor": 5
}
