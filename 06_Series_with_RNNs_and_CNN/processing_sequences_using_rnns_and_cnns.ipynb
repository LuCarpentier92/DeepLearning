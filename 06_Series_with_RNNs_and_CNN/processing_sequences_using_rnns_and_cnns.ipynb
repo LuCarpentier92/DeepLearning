{
 "cells": [
  {
   "cell_type": "markdown",
   "source": [
    "**Chapter– Processing Sequences Using RNNs and CNNs**"
   ],
   "metadata": {
    "collapsed": false
   }
  },
  {
   "cell_type": "markdown",
   "metadata": {},
   "source": [
    "<table align=\"left\">\n",
    "  <td>\n",
    "    <a href=\"https://colab.research.google.com/github/ageron/handson-ml2/blob/master/15_processing_sequences_using_rnns_and_cnns.ipynb\" target=\"_parent\"><img src=\"https://colab.research.google.com/assets/colab-badge.svg\" alt=\"Open In Colab\"/></a>\n",
    "  </td>\n",
    "  <td>\n",
    "    <a target=\"_blank\" href=\"https://kaggle.com/kernels/welcome?src=https://github.com/ageron/handson-ml2/blob/master/15_processing_sequences_using_rnns_and_cnns.ipynb\"><img src=\"https://kaggle.com/static/images/open-in-kaggle.svg\" /></a>\n",
    "  </td>\n",
    "</table>"
   ]
  },
  {
   "cell_type": "markdown",
   "metadata": {},
   "source": [
    "# Setup"
   ]
  },
  {
   "cell_type": "markdown",
   "metadata": {},
   "source": [
    "First, let's import a few common modules, ensure MatplotLib plots figures inline and prepare a function to save the figures. We also check that Python 3.5 or later is installed (although Python 2.x may work, it is deprecated so we strongly recommend you use Python 3 instead), as well as Scikit-Learn ≥0.20 and TensorFlow ≥2.0."
   ]
  },
  {
   "cell_type": "code",
   "execution_count": 1,
   "metadata": {
    "ExecuteTime": {
     "end_time": "2024-02-01T16:13:29.771850Z",
     "start_time": "2024-02-01T16:13:19.610855400Z"
    }
   },
   "outputs": [
    {
     "name": "stdout",
     "output_type": "stream",
     "text": [
      "WARNING:tensorflow:From C:\\Users\\Lucas\\AppData\\Local\\Programs\\Python\\Python39\\lib\\site-packages\\keras\\src\\losses.py:2976: The name tf.losses.sparse_softmax_cross_entropy is deprecated. Please use tf.compat.v1.losses.sparse_softmax_cross_entropy instead.\n"
     ]
    }
   ],
   "source": [
    "import sklearn\n",
    "\n",
    "# TensorFlow ≥2.0 is required\n",
    "import tensorflow as tf\n",
    "from tensorflow import keras\n",
    "\n",
    "# Common imports\n",
    "import numpy as np\n",
    "import os\n",
    "from pathlib import Path\n",
    "\n",
    "# to make this notebook's output stable across runs\n",
    "np.random.seed(42)\n",
    "tf.random.set_seed(42)\n",
    "\n",
    "# To plot pretty figures\n",
    "%matplotlib inline\n",
    "import matplotlib as mpl\n",
    "import matplotlib.pyplot as plt\n",
    "mpl.rc('axes', labelsize=14)\n",
    "mpl.rc('xtick', labelsize=12)\n",
    "mpl.rc('ytick', labelsize=12)\n",
    "\n",
    "# Where to save the figures\n",
    "PROJECT_ROOT_DIR = \".\"\n",
    "CHAPTER_ID = \"rnn\"\n",
    "IMAGES_PATH = os.path.join(PROJECT_ROOT_DIR, \"images\", CHAPTER_ID)\n",
    "os.makedirs(IMAGES_PATH, exist_ok=True)\n",
    "\n",
    "def save_fig(fig_id, tight_layout=True, fig_extension=\"png\", resolution=300):\n",
    "    path = os.path.join(IMAGES_PATH, fig_id + \".\" + fig_extension)\n",
    "    print(\"Saving figure\", fig_id)\n",
    "    if tight_layout:\n",
    "        plt.tight_layout()\n",
    "    plt.savefig(path, format=fig_extension, dpi=resolution)"
   ]
  },
  {
   "cell_type": "markdown",
   "metadata": {},
   "source": [
    "# Basic RNNs"
   ]
  },
  {
   "cell_type": "markdown",
   "metadata": {},
   "source": [
    "## Generate the Dataset"
   ]
  },
  {
   "cell_type": "code",
   "execution_count": 2,
   "metadata": {
    "ExecuteTime": {
     "end_time": "2024-02-01T16:13:29.781858700Z",
     "start_time": "2024-02-01T16:13:29.768846Z"
    }
   },
   "outputs": [],
   "source": [
    "def generate_time_series(batch_size, n_steps):\n",
    "    freq1, freq2, offsets1, offsets2 = np.random.rand(4, batch_size, 1)\n",
    "    time = np.linspace(0, 1, n_steps)\n",
    "    series = 0.5 * np.sin((time - offsets1) * (freq1 * 10 + 10))  #   wave 1\n",
    "    series += 0.2 * np.sin((time - offsets2) * (freq2 * 20 + 20)) # + wave 2\n",
    "    series += 0.1 * (np.random.rand(batch_size, n_steps) - 0.5)   # + noise\n",
    "    return series[..., np.newaxis].astype(np.float32)"
   ]
  },
  {
   "cell_type": "code",
   "execution_count": 3,
   "metadata": {
    "ExecuteTime": {
     "end_time": "2024-02-01T16:13:29.822896900Z",
     "start_time": "2024-02-01T16:13:29.782860100Z"
    }
   },
   "outputs": [],
   "source": [
    "np.random.seed(42)\n",
    "\n",
    "n_steps = 50\n",
    "series = generate_time_series(10000, n_steps + 1)\n",
    "X_train, y_train = series[:7000, :n_steps], series[:7000, -1]\n",
    "X_valid, y_valid = series[7000:9000, :n_steps], series[7000:9000, -1]\n",
    "X_test, y_test = series[9000:, :n_steps], series[9000:, -1]"
   ]
  },
  {
   "cell_type": "code",
   "execution_count": 4,
   "metadata": {
    "ExecuteTime": {
     "end_time": "2024-02-01T16:13:29.848920Z",
     "start_time": "2024-02-01T16:13:29.816891300Z"
    }
   },
   "outputs": [
    {
     "data": {
      "text/plain": "((7000, 50, 1), (7000, 1))"
     },
     "execution_count": 4,
     "metadata": {},
     "output_type": "execute_result"
    }
   ],
   "source": [
    "X_train.shape, y_train.shape"
   ]
  },
  {
   "cell_type": "markdown",
   "metadata": {},
   "source": [
    "## Computing Some Baselines"
   ]
  },
  {
   "cell_type": "markdown",
   "metadata": {},
   "source": [
    "Naive predictions (just predict the last observed value):"
   ]
  },
  {
   "cell_type": "code",
   "execution_count": 5,
   "metadata": {
    "ExecuteTime": {
     "end_time": "2024-02-01T16:13:29.942507100Z",
     "start_time": "2024-02-01T16:13:29.830903900Z"
    }
   },
   "outputs": [
    {
     "data": {
      "text/plain": "0.020211367"
     },
     "execution_count": 5,
     "metadata": {},
     "output_type": "execute_result"
    }
   ],
   "source": [
    "y_pred = X_valid[:, -1]\n",
    "np.mean(keras.losses.mean_squared_error(y_valid, y_pred))"
   ]
  },
  {
   "cell_type": "markdown",
   "metadata": {},
   "source": [
    "Linear predictions:"
   ]
  },
  {
   "cell_type": "code",
   "execution_count": 6,
   "metadata": {
    "ExecuteTime": {
     "end_time": "2024-02-01T16:13:34.625121300Z",
     "start_time": "2024-02-01T16:13:29.943507900Z"
    }
   },
   "outputs": [
    {
     "name": "stdout",
     "output_type": "stream",
     "text": [
      "WARNING:tensorflow:From C:\\Users\\Lucas\\AppData\\Local\\Programs\\Python\\Python39\\lib\\site-packages\\keras\\src\\backend.py:873: The name tf.get_default_graph is deprecated. Please use tf.compat.v1.get_default_graph instead.\n",
      "WARNING:tensorflow:From C:\\Users\\Lucas\\AppData\\Local\\Programs\\Python\\Python39\\lib\\site-packages\\keras\\src\\optimizers\\__init__.py:309: The name tf.train.Optimizer is deprecated. Please use tf.compat.v1.train.Optimizer instead.\n",
      "Epoch 1/20\n",
      "WARNING:tensorflow:From C:\\Users\\Lucas\\AppData\\Local\\Programs\\Python\\Python39\\lib\\site-packages\\keras\\src\\utils\\tf_utils.py:492: The name tf.ragged.RaggedTensorValue is deprecated. Please use tf.compat.v1.ragged.RaggedTensorValue instead.\n",
      "219/219 [==============================] - 1s 1ms/step - loss: 0.1080 - val_loss: 0.0565\n",
      "Epoch 2/20\n",
      "219/219 [==============================] - 0s 872us/step - loss: 0.0348 - val_loss: 0.0241\n",
      "Epoch 3/20\n",
      "219/219 [==============================] - 0s 880us/step - loss: 0.0175 - val_loss: 0.0138\n",
      "Epoch 4/20\n",
      "219/219 [==============================] - 0s 854us/step - loss: 0.0112 - val_loss: 0.0097\n",
      "Epoch 5/20\n",
      "219/219 [==============================] - 0s 838us/step - loss: 0.0085 - val_loss: 0.0080\n",
      "Epoch 6/20\n",
      "219/219 [==============================] - 0s 854us/step - loss: 0.0072 - val_loss: 0.0069\n",
      "Epoch 7/20\n",
      "219/219 [==============================] - 0s 813us/step - loss: 0.0064 - val_loss: 0.0062\n",
      "Epoch 8/20\n",
      "219/219 [==============================] - 0s 855us/step - loss: 0.0058 - val_loss: 0.0056\n",
      "Epoch 9/20\n",
      "219/219 [==============================] - 0s 841us/step - loss: 0.0053 - val_loss: 0.0051\n",
      "Epoch 10/20\n",
      "219/219 [==============================] - 0s 858us/step - loss: 0.0049 - val_loss: 0.0048\n",
      "Epoch 11/20\n",
      "219/219 [==============================] - 0s 877us/step - loss: 0.0046 - val_loss: 0.0044\n",
      "Epoch 12/20\n",
      "219/219 [==============================] - 0s 841us/step - loss: 0.0044 - val_loss: 0.0044\n",
      "Epoch 13/20\n",
      "219/219 [==============================] - 0s 843us/step - loss: 0.0042 - val_loss: 0.0041\n",
      "Epoch 14/20\n",
      "219/219 [==============================] - 0s 836us/step - loss: 0.0041 - val_loss: 0.0040\n",
      "Epoch 15/20\n",
      "219/219 [==============================] - 0s 847us/step - loss: 0.0040 - val_loss: 0.0039\n",
      "Epoch 16/20\n",
      "219/219 [==============================] - 0s 868us/step - loss: 0.0040 - val_loss: 0.0040\n",
      "Epoch 17/20\n",
      "219/219 [==============================] - 0s 864us/step - loss: 0.0039 - val_loss: 0.0037\n",
      "Epoch 18/20\n",
      "219/219 [==============================] - 0s 838us/step - loss: 0.0038 - val_loss: 0.0037\n",
      "Epoch 19/20\n",
      "219/219 [==============================] - 0s 854us/step - loss: 0.0038 - val_loss: 0.0037\n",
      "Epoch 20/20\n",
      "219/219 [==============================] - 0s 816us/step - loss: 0.0037 - val_loss: 0.0036\n"
     ]
    }
   ],
   "source": [
    "np.random.seed(42)\n",
    "tf.random.set_seed(42)\n",
    "\n",
    "model = keras.models.Sequential([\n",
    "    keras.layers.Flatten(input_shape=[50, 1]),\n",
    "    keras.layers.Dense(1)\n",
    "])\n",
    "\n",
    "model.compile(loss=\"mse\", optimizer=\"adam\")\n",
    "history = model.fit(X_train, y_train, epochs=20,\n",
    "                    validation_data=(X_valid, y_valid))"
   ]
  },
  {
   "cell_type": "code",
   "execution_count": 7,
   "metadata": {
    "ExecuteTime": {
     "end_time": "2024-02-01T16:13:34.721477800Z",
     "start_time": "2024-02-01T16:13:34.621117Z"
    }
   },
   "outputs": [
    {
     "name": "stdout",
     "output_type": "stream",
     "text": [
      "63/63 [==============================] - 0s 602us/step - loss: 0.0036\n"
     ]
    },
    {
     "data": {
      "text/plain": "0.003618513233959675"
     },
     "execution_count": 7,
     "metadata": {},
     "output_type": "execute_result"
    }
   ],
   "source": [
    "model.evaluate(X_valid, y_valid)"
   ]
  },
  {
   "cell_type": "code",
   "execution_count": 8,
   "metadata": {
    "ExecuteTime": {
     "end_time": "2024-02-01T16:13:34.841092600Z",
     "start_time": "2024-02-01T16:13:34.717474200Z"
    }
   },
   "outputs": [
    {
     "data": {
      "text/plain": "<Figure size 640x480 with 1 Axes>",
      "image/png": "[encoded data removed]"
     },
     "metadata": {},
     "output_type": "display_data"
    }
   ],
   "source": [
    "def plot_learning_curves(loss, val_loss):\n",
    "    plt.plot(np.arange(len(loss)) + 0.5, loss, \"b.-\", label=\"Training loss\")\n",
    "    plt.plot(np.arange(len(val_loss)) + 1, val_loss, \"r.-\", label=\"Validation loss\")\n",
    "    plt.gca().xaxis.set_major_locator(mpl.ticker.MaxNLocator(integer=True))\n",
    "    plt.axis([1, 20, 0, 0.05])\n",
    "    plt.legend(fontsize=14)\n",
    "    plt.xlabel(\"Epochs\")\n",
    "    plt.ylabel(\"Loss\")\n",
    "    plt.grid(True)\n",
    "\n",
    "plot_learning_curves(history.history[\"loss\"], history.history[\"val_loss\"])\n",
    "plt.show()"
   ]
  },
  {
   "cell_type": "code",
   "execution_count": 9,
   "metadata": {
    "ExecuteTime": {
     "end_time": "2024-02-01T16:13:35.010255400Z",
     "start_time": "2024-02-01T16:13:34.841092600Z"
    }
   },
   "outputs": [
    {
     "name": "stdout",
     "output_type": "stream",
     "text": [
      "63/63 [==============================] - 0s 565us/step\n"
     ]
    }
   ],
   "source": [
    "y_pred = model.predict(X_valid)"
   ]
  },
  {
   "cell_type": "markdown",
   "metadata": {},
   "source": [
    "## Using a Simple RNN"
   ]
  },
  {
   "cell_type": "code",
   "execution_count": 10,
   "metadata": {
    "ExecuteTime": {
     "end_time": "2024-02-01T16:13:50.244137200Z",
     "start_time": "2024-02-01T16:13:35.001247100Z"
    }
   },
   "outputs": [
    {
     "name": "stdout",
     "output_type": "stream",
     "text": [
      "Epoch 1/20\n",
      "219/219 [==============================] - 1s 4ms/step - loss: 0.0181 - val_loss: 0.0110\n",
      "Epoch 2/20\n",
      "219/219 [==============================] - 1s 3ms/step - loss: 0.0114 - val_loss: 0.0109\n",
      "Epoch 3/20\n",
      "219/219 [==============================] - 1s 3ms/step - loss: 0.0114 - val_loss: 0.0109\n",
      "Epoch 4/20\n",
      "219/219 [==============================] - 1s 3ms/step - loss: 0.0114 - val_loss: 0.0109\n",
      "Epoch 5/20\n",
      "219/219 [==============================] - 1s 3ms/step - loss: 0.0114 - val_loss: 0.0109\n",
      "Epoch 6/20\n",
      "219/219 [==============================] - 1s 3ms/step - loss: 0.0114 - val_loss: 0.0109\n",
      "Epoch 7/20\n",
      "219/219 [==============================] - 1s 3ms/step - loss: 0.0114 - val_loss: 0.0109\n",
      "Epoch 8/20\n",
      "219/219 [==============================] - 1s 3ms/step - loss: 0.0114 - val_loss: 0.0109\n",
      "Epoch 9/20\n",
      "219/219 [==============================] - 1s 4ms/step - loss: 0.0114 - val_loss: 0.0109\n",
      "Epoch 10/20\n",
      "219/219 [==============================] - 1s 4ms/step - loss: 0.0114 - val_loss: 0.0110\n",
      "Epoch 11/20\n",
      "219/219 [==============================] - 1s 3ms/step - loss: 0.0114 - val_loss: 0.0109\n",
      "Epoch 12/20\n",
      "219/219 [==============================] - 1s 3ms/step - loss: 0.0114 - val_loss: 0.0109\n",
      "Epoch 13/20\n",
      "219/219 [==============================] - 1s 3ms/step - loss: 0.0114 - val_loss: 0.0109\n",
      "Epoch 14/20\n",
      "219/219 [==============================] - 1s 3ms/step - loss: 0.0114 - val_loss: 0.0109\n",
      "Epoch 15/20\n",
      "219/219 [==============================] - 1s 3ms/step - loss: 0.0114 - val_loss: 0.0109\n",
      "Epoch 16/20\n",
      "219/219 [==============================] - 1s 3ms/step - loss: 0.0114 - val_loss: 0.0109\n",
      "Epoch 17/20\n",
      "219/219 [==============================] - 1s 3ms/step - loss: 0.0114 - val_loss: 0.0109\n",
      "Epoch 18/20\n",
      "219/219 [==============================] - 1s 3ms/step - loss: 0.0114 - val_loss: 0.0109\n",
      "Epoch 19/20\n",
      "219/219 [==============================] - 1s 3ms/step - loss: 0.0114 - val_loss: 0.0109\n",
      "Epoch 20/20\n",
      "219/219 [==============================] - 1s 3ms/step - loss: 0.0114 - val_loss: 0.0109\n"
     ]
    }
   ],
   "source": [
    "np.random.seed(42)\n",
    "tf.random.set_seed(42)\n",
    "\n",
    "model = keras.models.Sequential([\n",
    "    keras.layers.SimpleRNN(1, input_shape=[None, 1])\n",
    "])\n",
    "\n",
    "optimizer = keras.optimizers.Adam(learning_rate=0.005)\n",
    "model.compile(loss=\"mse\", optimizer=optimizer)\n",
    "history = model.fit(X_train, y_train, epochs=20,\n",
    "                    validation_data=(X_valid, y_valid))"
   ]
  },
  {
   "cell_type": "code",
   "execution_count": 11,
   "metadata": {
    "ExecuteTime": {
     "end_time": "2024-02-01T16:13:50.379278800Z",
     "start_time": "2024-02-01T16:13:50.238112600Z"
    }
   },
   "outputs": [
    {
     "name": "stdout",
     "output_type": "stream",
     "text": [
      "63/63 [==============================] - 0s 1ms/step - loss: 0.0109\n"
     ]
    },
    {
     "data": {
      "text/plain": "0.010910107754170895"
     },
     "execution_count": 11,
     "metadata": {},
     "output_type": "execute_result"
    }
   ],
   "source": [
    "model.evaluate(X_valid, y_valid)"
   ]
  },
  {
   "cell_type": "code",
   "execution_count": 12,
   "metadata": {
    "ExecuteTime": {
     "end_time": "2024-02-01T16:13:50.466861Z",
     "start_time": "2024-02-01T16:13:50.366265400Z"
    }
   },
   "outputs": [
    {
     "data": {
      "text/plain": "<Figure size 640x480 with 1 Axes>",
      "image/png": "[encoded data removed]"
     },
     "metadata": {},
     "output_type": "display_data"
    }
   ],
   "source": [
    "plot_learning_curves(history.history[\"loss\"], history.history[\"val_loss\"])\n",
    "plt.show()"
   ]
  },
  {
   "cell_type": "code",
   "execution_count": 13,
   "metadata": {
    "ExecuteTime": {
     "end_time": "2024-02-01T16:13:50.683617700Z",
     "start_time": "2024-02-01T16:13:50.461857Z"
    }
   },
   "outputs": [
    {
     "name": "stdout",
     "output_type": "stream",
     "text": [
      "63/63 [==============================] - 0s 1ms/step\n"
     ]
    }
   ],
   "source": [
    "y_pred = model.predict(X_valid)"
   ]
  },
  {
   "cell_type": "markdown",
   "metadata": {},
   "source": [
    "## Deep RNNs"
   ]
  },
  {
   "cell_type": "code",
   "execution_count": 14,
   "metadata": {
    "ExecuteTime": {
     "end_time": "2024-02-01T16:14:35.938437600Z",
     "start_time": "2024-02-01T16:13:50.684619100Z"
    }
   },
   "outputs": [
    {
     "name": "stdout",
     "output_type": "stream",
     "text": [
      "Epoch 1/20\n",
      "219/219 [==============================] - 5s 12ms/step - loss: 0.0138 - val_loss: 0.0038\n",
      "Epoch 2/20\n",
      "219/219 [==============================] - 2s 10ms/step - loss: 0.0036 - val_loss: 0.0031\n",
      "Epoch 3/20\n",
      "219/219 [==============================] - 2s 10ms/step - loss: 0.0033 - val_loss: 0.0029\n",
      "Epoch 4/20\n",
      "219/219 [==============================] - 2s 10ms/step - loss: 0.0031 - val_loss: 0.0030\n",
      "Epoch 5/20\n",
      "219/219 [==============================] - 2s 10ms/step - loss: 0.0031 - val_loss: 0.0029\n",
      "Epoch 6/20\n",
      "219/219 [==============================] - 2s 10ms/step - loss: 0.0030 - val_loss: 0.0028\n",
      "Epoch 7/20\n",
      "219/219 [==============================] - 2s 10ms/step - loss: 0.0030 - val_loss: 0.0030\n",
      "Epoch 8/20\n",
      "219/219 [==============================] - 2s 10ms/step - loss: 0.0030 - val_loss: 0.0029\n",
      "Epoch 9/20\n",
      "219/219 [==============================] - 2s 10ms/step - loss: 0.0029 - val_loss: 0.0026\n",
      "Epoch 10/20\n",
      "219/219 [==============================] - 2s 10ms/step - loss: 0.0028 - val_loss: 0.0027\n",
      "Epoch 11/20\n",
      "219/219 [==============================] - 2s 10ms/step - loss: 0.0028 - val_loss: 0.0026\n",
      "Epoch 12/20\n",
      "219/219 [==============================] - 2s 9ms/step - loss: 0.0028 - val_loss: 0.0027\n",
      "Epoch 13/20\n",
      "219/219 [==============================] - 2s 10ms/step - loss: 0.0029 - val_loss: 0.0028\n",
      "Epoch 14/20\n",
      "219/219 [==============================] - 2s 9ms/step - loss: 0.0028 - val_loss: 0.0028\n",
      "Epoch 15/20\n",
      "219/219 [==============================] - 2s 9ms/step - loss: 0.0028 - val_loss: 0.0029\n",
      "Epoch 16/20\n",
      "219/219 [==============================] - 2s 10ms/step - loss: 0.0028 - val_loss: 0.0026\n",
      "Epoch 17/20\n",
      "219/219 [==============================] - 2s 10ms/step - loss: 0.0027 - val_loss: 0.0026\n",
      "Epoch 18/20\n",
      "219/219 [==============================] - 2s 10ms/step - loss: 0.0028 - val_loss: 0.0026\n",
      "Epoch 19/20\n",
      "219/219 [==============================] - 2s 10ms/step - loss: 0.0027 - val_loss: 0.0025\n",
      "Epoch 20/20\n",
      "219/219 [==============================] - 2s 10ms/step - loss: 0.0027 - val_loss: 0.0026\n"
     ]
    }
   ],
   "source": [
    "np.random.seed(42)\n",
    "tf.random.set_seed(42)\n",
    "\n",
    "model = keras.models.Sequential([\n",
    "    keras.layers.SimpleRNN(20, return_sequences=True, input_shape=[None, 1]),\n",
    "    keras.layers.SimpleRNN(20, return_sequences=True),\n",
    "    keras.layers.SimpleRNN(1)\n",
    "])\n",
    "\n",
    "model.compile(loss=\"mse\", optimizer=\"adam\")\n",
    "history = model.fit(X_train, y_train, epochs=20,\n",
    "                    validation_data=(X_valid, y_valid))"
   ]
  },
  {
   "cell_type": "code",
   "execution_count": 15,
   "metadata": {
    "ExecuteTime": {
     "end_time": "2024-02-01T16:14:36.160692400Z",
     "start_time": "2024-02-01T16:14:35.939438500Z"
    }
   },
   "outputs": [
    {
     "name": "stdout",
     "output_type": "stream",
     "text": [
      "63/63 [==============================] - 0s 3ms/step - loss: 0.0026\n"
     ]
    },
    {
     "data": {
      "text/plain": "0.002593410201370716"
     },
     "execution_count": 15,
     "metadata": {},
     "output_type": "execute_result"
    }
   ],
   "source": [
    "model.evaluate(X_valid, y_valid)"
   ]
  },
  {
   "cell_type": "code",
   "execution_count": 16,
   "metadata": {
    "ExecuteTime": {
     "end_time": "2024-02-01T16:14:36.257286800Z",
     "start_time": "2024-02-01T16:14:36.157689500Z"
    }
   },
   "outputs": [
    {
     "data": {
      "text/plain": "<Figure size 640x480 with 1 Axes>",
      "image/png": "[encoded data removed]"
     },
     "metadata": {},
     "output_type": "display_data"
    }
   ],
   "source": [
    "plot_learning_curves(history.history[\"loss\"], history.history[\"val_loss\"])\n",
    "plt.show()"
   ]
  },
  {
   "cell_type": "markdown",
   "metadata": {},
   "source": [
    "Make the second `SimpleRNN` layer return only the last output:"
   ]
  },
  {
   "cell_type": "code",
   "execution_count": 17,
   "metadata": {
    "ExecuteTime": {
     "end_time": "2024-02-01T16:15:06.550316900Z",
     "start_time": "2024-02-01T16:14:36.268296700Z"
    }
   },
   "outputs": [
    {
     "name": "stdout",
     "output_type": "stream",
     "text": [
      "Epoch 1/20\n",
      "219/219 [==============================] - 3s 7ms/step - loss: 0.0121 - val_loss: 0.0038\n",
      "Epoch 2/20\n",
      "219/219 [==============================] - 1s 6ms/step - loss: 0.0039 - val_loss: 0.0034\n",
      "Epoch 3/20\n",
      "219/219 [==============================] - 1s 7ms/step - loss: 0.0036 - val_loss: 0.0031\n",
      "Epoch 4/20\n",
      "219/219 [==============================] - 1s 7ms/step - loss: 0.0035 - val_loss: 0.0035\n",
      "Epoch 5/20\n",
      "219/219 [==============================] - 1s 7ms/step - loss: 0.0034 - val_loss: 0.0031\n",
      "Epoch 6/20\n",
      "219/219 [==============================] - 1s 6ms/step - loss: 0.0033 - val_loss: 0.0030\n",
      "Epoch 7/20\n",
      "219/219 [==============================] - 2s 7ms/step - loss: 0.0032 - val_loss: 0.0031\n",
      "Epoch 8/20\n",
      "219/219 [==============================] - 2s 7ms/step - loss: 0.0032 - val_loss: 0.0032\n",
      "Epoch 9/20\n",
      "219/219 [==============================] - 1s 7ms/step - loss: 0.0031 - val_loss: 0.0027\n",
      "Epoch 10/20\n",
      "219/219 [==============================] - 1s 7ms/step - loss: 0.0031 - val_loss: 0.0028\n",
      "Epoch 11/20\n",
      "219/219 [==============================] - 1s 7ms/step - loss: 0.0030 - val_loss: 0.0026\n",
      "Epoch 12/20\n",
      "219/219 [==============================] - 1s 7ms/step - loss: 0.0029 - val_loss: 0.0027\n",
      "Epoch 13/20\n",
      "219/219 [==============================] - 1s 7ms/step - loss: 0.0030 - val_loss: 0.0028\n",
      "Epoch 14/20\n",
      "219/219 [==============================] - 1s 7ms/step - loss: 0.0029 - val_loss: 0.0028\n",
      "Epoch 15/20\n",
      "219/219 [==============================] - 1s 6ms/step - loss: 0.0029 - val_loss: 0.0029\n",
      "Epoch 16/20\n",
      "219/219 [==============================] - 1s 7ms/step - loss: 0.0029 - val_loss: 0.0027\n",
      "Epoch 17/20\n",
      "219/219 [==============================] - 1s 6ms/step - loss: 0.0029 - val_loss: 0.0026\n",
      "Epoch 18/20\n",
      "219/219 [==============================] - 1s 6ms/step - loss: 0.0028 - val_loss: 0.0026\n",
      "Epoch 19/20\n",
      "219/219 [==============================] - 1s 6ms/step - loss: 0.0028 - val_loss: 0.0025\n",
      "Epoch 20/20\n",
      "219/219 [==============================] - 2s 7ms/step - loss: 0.0028 - val_loss: 0.0025\n"
     ]
    }
   ],
   "source": [
    "np.random.seed(42)\n",
    "tf.random.set_seed(42)\n",
    "\n",
    "model = keras.models.Sequential([\n",
    "    keras.layers.SimpleRNN(20, return_sequences=True, input_shape=[None, 1]),\n",
    "    keras.layers.SimpleRNN(20),\n",
    "    keras.layers.Dense(1)\n",
    "])\n",
    "\n",
    "model.compile(loss=\"mse\", optimizer=\"adam\")\n",
    "history = model.fit(X_train, y_train, epochs=20,\n",
    "                    validation_data=(X_valid, y_valid))"
   ]
  },
  {
   "cell_type": "code",
   "execution_count": 18,
   "metadata": {
    "ExecuteTime": {
     "end_time": "2024-02-01T16:15:06.764281200Z",
     "start_time": "2024-02-01T16:15:06.552319500Z"
    }
   },
   "outputs": [
    {
     "name": "stdout",
     "output_type": "stream",
     "text": [
      "63/63 [==============================] - 0s 2ms/step - loss: 0.0025\n"
     ]
    },
    {
     "data": {
      "text/plain": "0.002470567589625716"
     },
     "execution_count": 18,
     "metadata": {},
     "output_type": "execute_result"
    }
   ],
   "source": [
    "model.evaluate(X_valid, y_valid)"
   ]
  },
  {
   "cell_type": "code",
   "execution_count": 19,
   "metadata": {
    "ExecuteTime": {
     "end_time": "2024-02-01T16:15:06.853363600Z",
     "start_time": "2024-02-01T16:15:06.728490800Z"
    }
   },
   "outputs": [
    {
     "data": {
      "text/plain": "<Figure size 640x480 with 1 Axes>",
      "image/png": "[encoded data removed]"
     },
     "metadata": {},
     "output_type": "display_data"
    }
   ],
   "source": [
    "plot_learning_curves(history.history[\"loss\"], history.history[\"val_loss\"])\n",
    "plt.show()"
   ]
  },
  {
   "cell_type": "markdown",
   "metadata": {},
   "source": [
    "## Forecasting Several Steps Ahead"
   ]
  },
  {
   "cell_type": "code",
   "execution_count": 20,
   "metadata": {
    "ExecuteTime": {
     "end_time": "2024-02-01T16:15:07.450658200Z",
     "start_time": "2024-02-01T16:15:06.855365Z"
    }
   },
   "outputs": [
    {
     "name": "stdout",
     "output_type": "stream",
     "text": [
      "1/1 [==============================] - 0s 154ms/step\n",
      "1/1 [==============================] - 0s 17ms/step\n",
      "1/1 [==============================] - 0s 15ms/step\n",
      "1/1 [==============================] - 0s 16ms/step\n",
      "1/1 [==============================] - 0s 15ms/step\n",
      "1/1 [==============================] - 0s 15ms/step\n",
      "1/1 [==============================] - 0s 16ms/step\n",
      "1/1 [==============================] - 0s 16ms/step\n",
      "1/1 [==============================] - 0s 15ms/step\n",
      "1/1 [==============================] - 0s 15ms/step\n"
     ]
    }
   ],
   "source": [
    "np.random.seed(43) # not 42, as it would give the first series in the train set\n",
    "\n",
    "series = generate_time_series(1, n_steps + 10)\n",
    "X_new, Y_new = series[:, :n_steps], series[:, n_steps:]\n",
    "X = X_new\n",
    "for step_ahead in range(10):\n",
    "    y_pred_one = model.predict(X[:, step_ahead:])[:, np.newaxis, :]\n",
    "    X = np.concatenate([X, y_pred_one], axis=1)\n",
    "\n",
    "Y_pred = X[:, n_steps:]"
   ]
  },
  {
   "cell_type": "code",
   "execution_count": 21,
   "metadata": {
    "ExecuteTime": {
     "end_time": "2024-02-01T16:15:07.491464200Z",
     "start_time": "2024-02-01T16:15:07.451896400Z"
    }
   },
   "outputs": [
    {
     "data": {
      "text/plain": "(1, 10, 1)"
     },
     "execution_count": 21,
     "metadata": {},
     "output_type": "execute_result"
    }
   ],
   "source": [
    "Y_pred.shape"
   ]
  },
  {
   "cell_type": "markdown",
   "metadata": {},
   "source": [
    "Now let's use this model to predict the next 10 values. We first need to regenerate the sequences with 9 more time steps."
   ]
  },
  {
   "cell_type": "code",
   "execution_count": 22,
   "metadata": {
    "ExecuteTime": {
     "end_time": "2024-02-01T16:15:07.528498Z",
     "start_time": "2024-02-01T16:15:07.468442700Z"
    }
   },
   "outputs": [],
   "source": [
    "np.random.seed(42)\n",
    "\n",
    "n_steps = 50\n",
    "series = generate_time_series(10000, n_steps + 10)\n",
    "X_train, Y_train = series[:7000, :n_steps], series[:7000, -10:, 0]\n",
    "X_valid, Y_valid = series[7000:9000, :n_steps], series[7000:9000, -10:, 0]\n",
    "X_test, Y_test = series[9000:, :n_steps], series[9000:, -10:, 0]"
   ]
  },
  {
   "cell_type": "markdown",
   "metadata": {},
   "source": [
    "Now let's predict the next 10 values one by one:"
   ]
  },
  {
   "cell_type": "code",
   "execution_count": 23,
   "metadata": {
    "ExecuteTime": {
     "end_time": "2024-02-01T16:15:09.703604200Z",
     "start_time": "2024-02-01T16:15:07.499471Z"
    }
   },
   "outputs": [
    {
     "name": "stdout",
     "output_type": "stream",
     "text": [
      "63/63 [==============================] - 0s 2ms/step\n",
      "63/63 [==============================] - 0s 2ms/step\n",
      "63/63 [==============================] - 0s 2ms/step\n",
      "63/63 [==============================] - 0s 2ms/step\n",
      "63/63 [==============================] - 0s 2ms/step\n",
      "63/63 [==============================] - 0s 2ms/step\n",
      "63/63 [==============================] - 0s 2ms/step\n",
      "63/63 [==============================] - 0s 2ms/step\n",
      "63/63 [==============================] - 0s 2ms/step\n",
      "63/63 [==============================] - 0s 2ms/step\n"
     ]
    }
   ],
   "source": [
    "X = X_valid\n",
    "for step_ahead in range(10):\n",
    "    y_pred_one = model.predict(X)[:, np.newaxis, :]\n",
    "    X = np.concatenate([X, y_pred_one], axis=1)\n",
    "\n",
    "Y_pred = X[:, n_steps:, 0]"
   ]
  },
  {
   "cell_type": "code",
   "execution_count": 24,
   "metadata": {
    "ExecuteTime": {
     "end_time": "2024-02-01T16:15:09.716616900Z",
     "start_time": "2024-02-01T16:15:09.697598800Z"
    }
   },
   "outputs": [
    {
     "data": {
      "text/plain": "(2000, 10)"
     },
     "execution_count": 24,
     "metadata": {},
     "output_type": "execute_result"
    }
   ],
   "source": [
    "Y_pred.shape"
   ]
  },
  {
   "cell_type": "code",
   "execution_count": 25,
   "metadata": {
    "ExecuteTime": {
     "end_time": "2024-02-01T16:15:09.760659600Z",
     "start_time": "2024-02-01T16:15:09.712613Z"
    }
   },
   "outputs": [
    {
     "data": {
      "text/plain": "0.01995637"
     },
     "execution_count": 25,
     "metadata": {},
     "output_type": "execute_result"
    }
   ],
   "source": [
    "np.mean(keras.metrics.mean_squared_error(Y_valid, Y_pred))"
   ]
  },
  {
   "cell_type": "markdown",
   "metadata": {},
   "source": [
    "Let's compare this performance with some baselines: naive predictions and a simple linear model:"
   ]
  },
  {
   "cell_type": "code",
   "execution_count": 26,
   "metadata": {
    "ExecuteTime": {
     "end_time": "2024-02-01T16:15:09.763165100Z",
     "start_time": "2024-02-01T16:15:09.728626900Z"
    }
   },
   "outputs": [
    {
     "data": {
      "text/plain": "0.25697407"
     },
     "execution_count": 26,
     "metadata": {},
     "output_type": "execute_result"
    }
   ],
   "source": [
    "Y_naive_pred = np.tile(X_valid[:, -1], 10) # take the last time step value, and repeat it 10 times\n",
    "np.mean(keras.metrics.mean_squared_error(Y_valid, Y_naive_pred))"
   ]
  },
  {
   "cell_type": "code",
   "execution_count": 27,
   "metadata": {
    "ExecuteTime": {
     "end_time": "2024-02-01T16:15:13.823558100Z",
     "start_time": "2024-02-01T16:15:09.745643400Z"
    }
   },
   "outputs": [
    {
     "name": "stdout",
     "output_type": "stream",
     "text": [
      "Epoch 1/20\n",
      "219/219 [==============================] - 0s 1ms/step - loss: 0.1272 - val_loss: 0.0706\n",
      "Epoch 2/20\n",
      "219/219 [==============================] - 0s 843us/step - loss: 0.0572 - val_loss: 0.0486\n",
      "Epoch 3/20\n",
      "219/219 [==============================] - 0s 834us/step - loss: 0.0427 - val_loss: 0.0388\n",
      "Epoch 4/20\n",
      "219/219 [==============================] - 0s 849us/step - loss: 0.0358 - val_loss: 0.0336\n",
      "Epoch 5/20\n",
      "219/219 [==============================] - 0s 851us/step - loss: 0.0317 - val_loss: 0.0303\n",
      "Epoch 6/20\n",
      "219/219 [==============================] - 0s 834us/step - loss: 0.0290 - val_loss: 0.0282\n",
      "Epoch 7/20\n",
      "219/219 [==============================] - 0s 854us/step - loss: 0.0271 - val_loss: 0.0264\n",
      "Epoch 8/20\n",
      "219/219 [==============================] - 0s 834us/step - loss: 0.0257 - val_loss: 0.0250\n",
      "Epoch 9/20\n",
      "219/219 [==============================] - 0s 849us/step - loss: 0.0246 - val_loss: 0.0240\n",
      "Epoch 10/20\n",
      "219/219 [==============================] - 0s 831us/step - loss: 0.0236 - val_loss: 0.0231\n",
      "Epoch 11/20\n",
      "219/219 [==============================] - 0s 798us/step - loss: 0.0229 - val_loss: 0.0224\n",
      "Epoch 12/20\n",
      "219/219 [==============================] - 0s 822us/step - loss: 0.0222 - val_loss: 0.0219\n",
      "Epoch 13/20\n",
      "219/219 [==============================] - 0s 835us/step - loss: 0.0217 - val_loss: 0.0214\n",
      "Epoch 14/20\n",
      "219/219 [==============================] - 0s 843us/step - loss: 0.0212 - val_loss: 0.0212\n",
      "Epoch 15/20\n",
      "219/219 [==============================] - 0s 826us/step - loss: 0.0208 - val_loss: 0.0207\n",
      "Epoch 16/20\n",
      "219/219 [==============================] - 0s 840us/step - loss: 0.0204 - val_loss: 0.0203\n",
      "Epoch 17/20\n",
      "219/219 [==============================] - 0s 833us/step - loss: 0.0201 - val_loss: 0.0199\n",
      "Epoch 18/20\n",
      "219/219 [==============================] - 0s 815us/step - loss: 0.0197 - val_loss: 0.0195\n",
      "Epoch 19/20\n",
      "219/219 [==============================] - 0s 835us/step - loss: 0.0194 - val_loss: 0.0192\n",
      "Epoch 20/20\n",
      "219/219 [==============================] - 0s 854us/step - loss: 0.0192 - val_loss: 0.0190\n"
     ]
    }
   ],
   "source": [
    "np.random.seed(42)\n",
    "tf.random.set_seed(42)\n",
    "\n",
    "model = keras.models.Sequential([\n",
    "    keras.layers.Flatten(input_shape=[50, 1]),\n",
    "    keras.layers.Dense(10)\n",
    "])\n",
    "\n",
    "model.compile(loss=\"mse\", optimizer=\"adam\")\n",
    "history = model.fit(X_train, Y_train, epochs=20,\n",
    "                    validation_data=(X_valid, Y_valid))"
   ]
  },
  {
   "cell_type": "markdown",
   "metadata": {},
   "source": [
    "Now let's create an RNN that predicts all 10 next values at once:"
   ]
  },
  {
   "cell_type": "code",
   "execution_count": 28,
   "metadata": {
    "ExecuteTime": {
     "end_time": "2024-02-01T16:15:43.402231800Z",
     "start_time": "2024-02-01T16:15:13.827561500Z"
    }
   },
   "outputs": [
    {
     "name": "stdout",
     "output_type": "stream",
     "text": [
      "Epoch 1/20\n",
      "219/219 [==============================] - 3s 7ms/step - loss: 0.0559 - val_loss: 0.0294\n",
      "Epoch 2/20\n",
      "219/219 [==============================] - 1s 6ms/step - loss: 0.0222 - val_loss: 0.0184\n",
      "Epoch 3/20\n",
      "219/219 [==============================] - 1s 6ms/step - loss: 0.0163 - val_loss: 0.0140\n",
      "Epoch 4/20\n",
      "219/219 [==============================] - 1s 6ms/step - loss: 0.0140 - val_loss: 0.0132\n",
      "Epoch 5/20\n",
      "219/219 [==============================] - 1s 6ms/step - loss: 0.0133 - val_loss: 0.0112\n",
      "Epoch 6/20\n",
      "219/219 [==============================] - 1s 6ms/step - loss: 0.0117 - val_loss: 0.0104\n",
      "Epoch 7/20\n",
      "219/219 [==============================] - 1s 6ms/step - loss: 0.0117 - val_loss: 0.0123\n",
      "Epoch 8/20\n",
      "219/219 [==============================] - 1s 6ms/step - loss: 0.0111 - val_loss: 0.0098\n",
      "Epoch 9/20\n",
      "219/219 [==============================] - 1s 7ms/step - loss: 0.0108 - val_loss: 0.0103\n",
      "Epoch 10/20\n",
      "219/219 [==============================] - 1s 7ms/step - loss: 0.0102 - val_loss: 0.0090\n",
      "Epoch 11/20\n",
      "219/219 [==============================] - 1s 7ms/step - loss: 0.0102 - val_loss: 0.0091\n",
      "Epoch 12/20\n",
      "219/219 [==============================] - 1s 6ms/step - loss: 0.0098 - val_loss: 0.0099\n",
      "Epoch 13/20\n",
      "219/219 [==============================] - 1s 6ms/step - loss: 0.0097 - val_loss: 0.0093\n",
      "Epoch 14/20\n",
      "219/219 [==============================] - 1s 6ms/step - loss: 0.0094 - val_loss: 0.0100\n",
      "Epoch 15/20\n",
      "219/219 [==============================] - 1s 6ms/step - loss: 0.0092 - val_loss: 0.0106\n",
      "Epoch 16/20\n",
      "219/219 [==============================] - 1s 7ms/step - loss: 0.0095 - val_loss: 0.0093\n",
      "Epoch 17/20\n",
      "219/219 [==============================] - 1s 7ms/step - loss: 0.0094 - val_loss: 0.0088\n",
      "Epoch 18/20\n",
      "219/219 [==============================] - 1s 6ms/step - loss: 0.0092 - val_loss: 0.0085\n",
      "Epoch 19/20\n",
      "219/219 [==============================] - 1s 6ms/step - loss: 0.0093 - val_loss: 0.0088\n",
      "Epoch 20/20\n",
      "219/219 [==============================] - 1s 6ms/step - loss: 0.0094 - val_loss: 0.0087\n"
     ]
    }
   ],
   "source": [
    "np.random.seed(42)\n",
    "tf.random.set_seed(42)\n",
    "\n",
    "model = keras.models.Sequential([\n",
    "    keras.layers.SimpleRNN(20, return_sequences=True, input_shape=[None, 1]),\n",
    "    keras.layers.SimpleRNN(20),\n",
    "    keras.layers.Dense(10)\n",
    "])\n",
    "\n",
    "model.compile(loss=\"mse\", optimizer=\"adam\")\n",
    "history = model.fit(X_train, Y_train, epochs=20,\n",
    "                    validation_data=(X_valid, Y_valid))"
   ]
  },
  {
   "cell_type": "code",
   "execution_count": 29,
   "metadata": {
    "ExecuteTime": {
     "end_time": "2024-02-01T16:15:43.574340700Z",
     "start_time": "2024-02-01T16:15:43.402231800Z"
    }
   },
   "outputs": [
    {
     "name": "stdout",
     "output_type": "stream",
     "text": [
      "1/1 [==============================] - 0s 136ms/step\n"
     ]
    }
   ],
   "source": [
    "np.random.seed(43)\n",
    "\n",
    "series = generate_time_series(1, 50 + 10)\n",
    "X_new, Y_new = series[:, :50, :], series[:, -10:, :]\n",
    "Y_pred = model.predict(X_new)[..., np.newaxis]"
   ]
  },
  {
   "cell_type": "markdown",
   "metadata": {},
   "source": [
    "Now let's create an RNN that predicts the next 10 steps at each time step. That is, instead of just forecasting time steps 50 to 59 based on time steps 0 to 49, it will forecast time steps 1 to 10 at time step 0, then time steps 2 to 11 at time step 1, and so on, and finally it will forecast time steps 50 to 59 at the last time step. Notice that the model is causal: when it makes predictions at any time step, it can only see past time steps."
   ]
  },
  {
   "cell_type": "code",
   "execution_count": 30,
   "metadata": {
    "ExecuteTime": {
     "end_time": "2024-02-01T16:15:43.637751600Z",
     "start_time": "2024-02-01T16:15:43.574340700Z"
    }
   },
   "outputs": [],
   "source": [
    "np.random.seed(42)\n",
    "\n",
    "n_steps = 50\n",
    "series = generate_time_series(10000, n_steps + 10)\n",
    "X_train = series[:7000, :n_steps]\n",
    "X_valid = series[7000:9000, :n_steps]\n",
    "X_test = series[9000:, :n_steps]\n",
    "Y = np.empty((10000, n_steps, 10))\n",
    "for step_ahead in range(1, 10 + 1):\n",
    "    Y[..., step_ahead - 1] = series[..., step_ahead:step_ahead + n_steps, 0]\n",
    "Y_train = Y[:7000]\n",
    "Y_valid = Y[7000:9000]\n",
    "Y_test = Y[9000:]"
   ]
  },
  {
   "cell_type": "code",
   "execution_count": 31,
   "metadata": {
    "ExecuteTime": {
     "end_time": "2024-02-01T16:15:43.653765Z",
     "start_time": "2024-02-01T16:15:43.637751600Z"
    }
   },
   "outputs": [
    {
     "data": {
      "text/plain": "((7000, 50, 1), (7000, 50, 10))"
     },
     "execution_count": 31,
     "metadata": {},
     "output_type": "execute_result"
    }
   ],
   "source": [
    "X_train.shape, Y_train.shape"
   ]
  },
  {
   "cell_type": "code",
   "execution_count": 32,
   "metadata": {
    "ExecuteTime": {
     "end_time": "2024-02-01T16:16:13.467373500Z",
     "start_time": "2024-02-01T16:15:43.655767900Z"
    }
   },
   "outputs": [
    {
     "name": "stdout",
     "output_type": "stream",
     "text": [
      "Epoch 1/20\n",
      "WARNING:tensorflow:From C:\\Users\\Lucas\\AppData\\Local\\Programs\\Python\\Python39\\lib\\site-packages\\keras\\src\\engine\\base_layer_utils.py:384: The name tf.executing_eagerly_outside_functions is deprecated. Please use tf.compat.v1.executing_eagerly_outside_functions instead.\n",
      "219/219 [==============================] - 3s 7ms/step - loss: 0.0475 - last_time_step_mse: 0.0364 - val_loss: 0.0361 - val_last_time_step_mse: 0.0230\n",
      "Epoch 2/20\n",
      "219/219 [==============================] - 1s 7ms/step - loss: 0.0365 - last_time_step_mse: 0.0245 - val_loss: 0.0363 - val_last_time_step_mse: 0.0259\n",
      "Epoch 3/20\n",
      "219/219 [==============================] - 1s 6ms/step - loss: 0.0310 - last_time_step_mse: 0.0183 - val_loss: 0.0299 - val_last_time_step_mse: 0.0178\n",
      "Epoch 4/20\n",
      "219/219 [==============================] - 1s 6ms/step - loss: 0.0278 - last_time_step_mse: 0.0144 - val_loss: 0.0245 - val_last_time_step_mse: 0.0106\n",
      "Epoch 5/20\n",
      "219/219 [==============================] - 1s 7ms/step - loss: 0.0249 - last_time_step_mse: 0.0110 - val_loss: 0.0227 - val_last_time_step_mse: 0.0088\n",
      "Epoch 6/20\n",
      "219/219 [==============================] - 1s 6ms/step - loss: 0.0234 - last_time_step_mse: 0.0099 - val_loss: 0.0228 - val_last_time_step_mse: 0.0095\n",
      "Epoch 7/20\n",
      "219/219 [==============================] - 1s 7ms/step - loss: 0.0229 - last_time_step_mse: 0.0100 - val_loss: 0.0212 - val_last_time_step_mse: 0.0078\n",
      "Epoch 8/20\n",
      "219/219 [==============================] - 1s 7ms/step - loss: 0.0215 - last_time_step_mse: 0.0087 - val_loss: 0.0202 - val_last_time_step_mse: 0.0071\n",
      "Epoch 9/20\n",
      "219/219 [==============================] - 1s 6ms/step - loss: 0.0208 - last_time_step_mse: 0.0082 - val_loss: 0.0194 - val_last_time_step_mse: 0.0076\n",
      "Epoch 10/20\n",
      "219/219 [==============================] - 1s 6ms/step - loss: 0.0202 - last_time_step_mse: 0.0079 - val_loss: 0.0200 - val_last_time_step_mse: 0.0093\n",
      "Epoch 11/20\n",
      "219/219 [==============================] - 1s 6ms/step - loss: 0.0198 - last_time_step_mse: 0.0077 - val_loss: 0.0195 - val_last_time_step_mse: 0.0070\n",
      "Epoch 12/20\n",
      "219/219 [==============================] - 1s 6ms/step - loss: 0.0198 - last_time_step_mse: 0.0077 - val_loss: 0.0187 - val_last_time_step_mse: 0.0070\n",
      "Epoch 13/20\n",
      "219/219 [==============================] - 1s 6ms/step - loss: 0.0191 - last_time_step_mse: 0.0069 - val_loss: 0.0200 - val_last_time_step_mse: 0.0080\n",
      "Epoch 14/20\n",
      "219/219 [==============================] - 1s 7ms/step - loss: 0.0190 - last_time_step_mse: 0.0070 - val_loss: 0.0191 - val_last_time_step_mse: 0.0082\n",
      "Epoch 15/20\n",
      "219/219 [==============================] - 1s 6ms/step - loss: 0.0189 - last_time_step_mse: 0.0068 - val_loss: 0.0187 - val_last_time_step_mse: 0.0081\n",
      "Epoch 16/20\n",
      "219/219 [==============================] - 1s 7ms/step - loss: 0.0187 - last_time_step_mse: 0.0067 - val_loss: 0.0180 - val_last_time_step_mse: 0.0062\n",
      "Epoch 17/20\n",
      "219/219 [==============================] - 1s 6ms/step - loss: 0.0184 - last_time_step_mse: 0.0066 - val_loss: 0.0177 - val_last_time_step_mse: 0.0064\n",
      "Epoch 18/20\n",
      "219/219 [==============================] - 1s 6ms/step - loss: 0.0184 - last_time_step_mse: 0.0066 - val_loss: 0.0187 - val_last_time_step_mse: 0.0081\n",
      "Epoch 19/20\n",
      "219/219 [==============================] - 1s 7ms/step - loss: 0.0182 - last_time_step_mse: 0.0065 - val_loss: 0.0188 - val_last_time_step_mse: 0.0076\n",
      "Epoch 20/20\n",
      "219/219 [==============================] - 1s 7ms/step - loss: 0.0183 - last_time_step_mse: 0.0070 - val_loss: 0.0197 - val_last_time_step_mse: 0.0082\n"
     ]
    }
   ],
   "source": [
    "np.random.seed(42)\n",
    "tf.random.set_seed(42)\n",
    "\n",
    "model = keras.models.Sequential([\n",
    "    keras.layers.SimpleRNN(20, return_sequences=True, input_shape=[None, 1]),\n",
    "    keras.layers.SimpleRNN(20, return_sequences=True),\n",
    "    keras.layers.TimeDistributed(keras.layers.Dense(10))\n",
    "])\n",
    "\n",
    "def last_time_step_mse(Y_true, Y_pred):\n",
    "    return keras.metrics.mean_squared_error(Y_true[:, -1], Y_pred[:, -1])\n",
    "\n",
    "model.compile(loss=\"mse\", optimizer=keras.optimizers.Adam(learning_rate=0.01), metrics=[last_time_step_mse])\n",
    "history = model.fit(X_train, Y_train, epochs=20,\n",
    "                    validation_data=(X_valid, Y_valid))"
   ]
  },
  {
   "cell_type": "code",
   "execution_count": 33,
   "metadata": {
    "ExecuteTime": {
     "end_time": "2024-02-01T16:16:13.648302500Z",
     "start_time": "2024-02-01T16:16:13.468375100Z"
    }
   },
   "outputs": [
    {
     "name": "stdout",
     "output_type": "stream",
     "text": [
      "1/1 [==============================] - 0s 142ms/step\n"
     ]
    }
   ],
   "source": [
    "np.random.seed(43)\n",
    "\n",
    "series = generate_time_series(1, 50 + 10)\n",
    "X_new, Y_new = series[:, :50, :], series[:, 50:, :]\n",
    "Y_pred = model.predict(X_new)[:, -1][..., np.newaxis]"
   ]
  },
  {
   "cell_type": "markdown",
   "metadata": {},
   "source": [
    "# Deep RNN with Batch Norm"
   ]
  },
  {
   "cell_type": "code",
   "execution_count": null,
   "metadata": {
    "ExecuteTime": {
     "end_time": "2024-02-01T16:16:13.740890400Z",
     "start_time": "2024-02-01T16:16:13.737888Z"
    }
   },
   "outputs": [],
   "source": [
    "np.random.seed(42)\n",
    "tf.random.set_seed(42)\n",
    "\n",
    "model = keras.models.Sequential([\n",
    "    keras.layers.SimpleRNN(20, return_sequences=True, input_shape=[None, 1]),\n",
    "    keras.layers.BatchNormalization(),\n",
    "    keras.layers.SimpleRNN(20, return_sequences=True),\n",
    "    keras.layers.BatchNormalization(), \n",
    "    keras.layers.TimeDistributed(keras.layers.Dense(10))\n",
    "])\n",
    "\n",
    "model.compile(loss=\"mse\", optimizer=\"adam\", metrics=[last_time_step_mse])\n",
    "history = model.fit(X_train, Y_train, epochs=20,\n",
    "                    validation_data=(X_valid, Y_valid))"
   ]
  },
  {
   "cell_type": "markdown",
   "metadata": {},
   "source": [
    "# Deep RNNs with Layer Norm"
   ]
  },
  {
   "cell_type": "code",
   "execution_count": 35,
   "metadata": {
    "ExecuteTime": {
     "end_time": "2024-02-01T16:22:43.598205400Z",
     "start_time": "2024-02-01T16:22:43.542152400Z"
    }
   },
   "outputs": [],
   "source": [
    "from tensorflow.keras.layers import LayerNormalization"
   ]
  },
  {
   "cell_type": "code",
   "execution_count": 36,
   "metadata": {
    "ExecuteTime": {
     "end_time": "2024-02-01T16:22:56.836489600Z",
     "start_time": "2024-02-01T16:22:56.812965600Z"
    }
   },
   "outputs": [],
   "source": [
    "class LNSimpleRNNCell(keras.layers.Layer):\n",
    "    def __init__(self, units, activation=\"tanh\", **kwargs):\n",
    "        super().__init__(**kwargs)\n",
    "        self.state_size = units\n",
    "        self.output_size = units\n",
    "        self.simple_rnn_cell = keras.layers.SimpleRNNCell(units,activation=None)\n",
    "        self.layer_norm = LayerNormalization()\n",
    "        self.activation = keras.activations.get(activation)\n",
    "        \n",
    "    def get_initial_state(self, inputs=None, batch_size=None, dtype=None):\n",
    "        if inputs is not None:\n",
    "            batch_size = tf.shape(inputs)[0]\n",
    "            dtype = inputs.dtype\n",
    "        return [tf.zeros([batch_size, self.state_size], dtype=dtype)]\n",
    "    def call(self, inputs, states):\n",
    "        outputs, new_states = self.simple_rnn_cell(inputs, states)\n",
    "        norm_outputs = self.activation(self.layer_norm(outputs))\n",
    "        return norm_outputs, [norm_outputs]"
   ]
  },
  {
   "cell_type": "code",
   "execution_count": 37,
   "metadata": {
    "ExecuteTime": {
     "end_time": "2024-02-01T16:26:29.380759900Z",
     "start_time": "2024-02-01T16:24:59.026229Z"
    }
   },
   "outputs": [
    {
     "name": "stdout",
     "output_type": "stream",
     "text": [
      "WARNING:tensorflow:From C:\\Users\\Lucas\\AppData\\Local\\Programs\\Python\\Python39\\lib\\site-packages\\keras\\src\\layers\\normalization\\layer_normalization.py:328: The name tf.nn.fused_batch_norm is deprecated. Please use tf.compat.v1.nn.fused_batch_norm instead.\n",
      "Epoch 1/20\n",
      "219/219 [==============================] - 6s 21ms/step - loss: 0.1259 - last_time_step_mse: 0.1058 - val_loss: 0.0679 - val_last_time_step_mse: 0.0561\n",
      "Epoch 2/20\n",
      "219/219 [==============================] - 4s 19ms/step - loss: 0.0620 - last_time_step_mse: 0.0513 - val_loss: 0.0565 - val_last_time_step_mse: 0.0459\n",
      "Epoch 3/20\n",
      "219/219 [==============================] - 4s 20ms/step - loss: 0.0540 - last_time_step_mse: 0.0435 - val_loss: 0.0510 - val_last_time_step_mse: 0.0405\n",
      "Epoch 4/20\n",
      "219/219 [==============================] - 4s 19ms/step - loss: 0.0490 - last_time_step_mse: 0.0386 - val_loss: 0.0461 - val_last_time_step_mse: 0.0358\n",
      "Epoch 5/20\n",
      "219/219 [==============================] - 5s 23ms/step - loss: 0.0449 - last_time_step_mse: 0.0348 - val_loss: 0.0430 - val_last_time_step_mse: 0.0333\n",
      "Epoch 6/20\n",
      "219/219 [==============================] - 5s 25ms/step - loss: 0.0419 - last_time_step_mse: 0.0323 - val_loss: 0.0396 - val_last_time_step_mse: 0.0303\n",
      "Epoch 7/20\n",
      "219/219 [==============================] - 5s 24ms/step - loss: 0.0398 - last_time_step_mse: 0.0305 - val_loss: 0.0402 - val_last_time_step_mse: 0.0329\n",
      "Epoch 8/20\n",
      "219/219 [==============================] - 4s 20ms/step - loss: 0.0379 - last_time_step_mse: 0.0288 - val_loss: 0.0364 - val_last_time_step_mse: 0.0277\n",
      "Epoch 9/20\n",
      "219/219 [==============================] - 4s 19ms/step - loss: 0.0366 - last_time_step_mse: 0.0276 - val_loss: 0.0354 - val_last_time_step_mse: 0.0270\n",
      "Epoch 10/20\n",
      "219/219 [==============================] - 4s 20ms/step - loss: 0.0359 - last_time_step_mse: 0.0270 - val_loss: 0.0348 - val_last_time_step_mse: 0.0257\n",
      "Epoch 11/20\n",
      "219/219 [==============================] - 4s 19ms/step - loss: 0.0349 - last_time_step_mse: 0.0257 - val_loss: 0.0348 - val_last_time_step_mse: 0.0283\n",
      "Epoch 12/20\n",
      "219/219 [==============================] - 4s 19ms/step - loss: 0.0329 - last_time_step_mse: 0.0221 - val_loss: 0.0315 - val_last_time_step_mse: 0.0199\n",
      "Epoch 13/20\n",
      "219/219 [==============================] - 4s 19ms/step - loss: 0.0317 - last_time_step_mse: 0.0203 - val_loss: 0.0309 - val_last_time_step_mse: 0.0199\n",
      "Epoch 14/20\n",
      "219/219 [==============================] - 4s 19ms/step - loss: 0.0309 - last_time_step_mse: 0.0192 - val_loss: 0.0301 - val_last_time_step_mse: 0.0180\n",
      "Epoch 15/20\n",
      "219/219 [==============================] - 4s 19ms/step - loss: 0.0303 - last_time_step_mse: 0.0187 - val_loss: 0.0289 - val_last_time_step_mse: 0.0169\n",
      "Epoch 16/20\n",
      "219/219 [==============================] - 4s 19ms/step - loss: 0.0296 - last_time_step_mse: 0.0177 - val_loss: 0.0290 - val_last_time_step_mse: 0.0182\n",
      "Epoch 17/20\n",
      "219/219 [==============================] - 4s 19ms/step - loss: 0.0290 - last_time_step_mse: 0.0173 - val_loss: 0.0279 - val_last_time_step_mse: 0.0158\n",
      "Epoch 18/20\n",
      "219/219 [==============================] - 4s 19ms/step - loss: 0.0283 - last_time_step_mse: 0.0164 - val_loss: 0.0276 - val_last_time_step_mse: 0.0165\n",
      "Epoch 19/20\n",
      "219/219 [==============================] - 4s 19ms/step - loss: 0.0280 - last_time_step_mse: 0.0164 - val_loss: 0.0274 - val_last_time_step_mse: 0.0159\n",
      "Epoch 20/20\n",
      "219/219 [==============================] - 4s 19ms/step - loss: 0.0273 - last_time_step_mse: 0.0155 - val_loss: 0.0269 - val_last_time_step_mse: 0.0154\n"
     ]
    }
   ],
   "source": [
    "np.random.seed(42)\n",
    "tf.random.set_seed(42)\n",
    "\n",
    "model = keras.models.Sequential([\n",
    "    keras.layers.RNN(LNSimpleRNNCell(20), return_sequences=True,\n",
    "                     input_shape=[None, 1]),\n",
    "    keras.layers.RNN(LNSimpleRNNCell(20), return_sequences=True),\n",
    "    keras.layers.TimeDistributed(keras.layers.Dense(10))\n",
    "])\n",
    "\n",
    "model.compile(loss=\"mse\", optimizer=\"adam\", metrics=[last_time_step_mse])\n",
    "history = model.fit(X_train, Y_train, epochs=20,\n",
    "                    validation_data=(X_valid, Y_valid))"
   ]
  },
  {
   "cell_type": "markdown",
   "metadata": {},
   "source": [
    "# Creating a Custom RNN Class"
   ]
  },
  {
   "cell_type": "code",
   "execution_count": 38,
   "metadata": {
    "ExecuteTime": {
     "end_time": "2024-02-01T16:27:31.868353400Z",
     "start_time": "2024-02-01T16:27:31.831319500Z"
    }
   },
   "outputs": [],
   "source": [
    "class MyRNN(keras.layers.Layer):\n",
    "    def __init__(self, cell, return_sequences=False, **kwargs):\n",
    "        super().__init__(**kwargs)\n",
    "        self.cell = cell\n",
    "        self.return_sequences = return_sequences\n",
    "        self.get_initial_state = getattr(\n",
    "            self.cell, \"get_initial_state\", self.fallback_initial_state)\n",
    "    def fallback_initial_state(self, inputs):\n",
    "        batch_size = tf.shape(inputs)[0]\n",
    "        return [tf.zeros([batch_size, self.cell.state_size], dtype=inputs.dtype)]\n",
    "    @tf.function\n",
    "    def call(self, inputs):\n",
    "        states = self.get_initial_state(inputs)\n",
    "        shape = tf.shape(inputs)\n",
    "        batch_size = shape[0]\n",
    "        n_steps = shape[1]\n",
    "        sequences = tf.TensorArray(\n",
    "            inputs.dtype, size=(n_steps if self.return_sequences else 0))\n",
    "        outputs = tf.zeros(shape=[batch_size, self.cell.output_size], dtype=inputs.dtype)\n",
    "        for step in tf.range(n_steps):\n",
    "            outputs, states = self.cell(inputs[:, step], states)\n",
    "            if self.return_sequences:\n",
    "                sequences = sequences.write(step, outputs)\n",
    "        if self.return_sequences:\n",
    "            return tf.transpose(sequences.stack(), [1, 0, 2])\n",
    "        else:\n",
    "            return outputs"
   ]
  },
  {
   "cell_type": "code",
   "execution_count": 39,
   "metadata": {
    "ExecuteTime": {
     "end_time": "2024-02-01T16:29:01.863207800Z",
     "start_time": "2024-02-01T16:27:32.462250600Z"
    }
   },
   "outputs": [
    {
     "name": "stdout",
     "output_type": "stream",
     "text": [
      "Epoch 1/20\n",
      "219/219 [==============================] - 6s 21ms/step - loss: 0.1483 - last_time_step_mse: 0.1229 - val_loss: 0.0716 - val_last_time_step_mse: 0.0529\n",
      "Epoch 2/20\n",
      "219/219 [==============================] - 4s 20ms/step - loss: 0.0616 - last_time_step_mse: 0.0479 - val_loss: 0.0559 - val_last_time_step_mse: 0.0442\n",
      "Epoch 3/20\n",
      "219/219 [==============================] - 4s 20ms/step - loss: 0.0522 - last_time_step_mse: 0.0407 - val_loss: 0.0495 - val_last_time_step_mse: 0.0377\n",
      "Epoch 4/20\n",
      "219/219 [==============================] - 4s 20ms/step - loss: 0.0471 - last_time_step_mse: 0.0371 - val_loss: 0.0443 - val_last_time_step_mse: 0.0343\n",
      "Epoch 5/20\n",
      "219/219 [==============================] - 4s 20ms/step - loss: 0.0427 - last_time_step_mse: 0.0317 - val_loss: 0.0402 - val_last_time_step_mse: 0.0276\n",
      "Epoch 6/20\n",
      "219/219 [==============================] - 4s 20ms/step - loss: 0.0389 - last_time_step_mse: 0.0257 - val_loss: 0.0370 - val_last_time_step_mse: 0.0227\n",
      "Epoch 7/20\n",
      "219/219 [==============================] - 4s 20ms/step - loss: 0.0369 - last_time_step_mse: 0.0234 - val_loss: 0.0354 - val_last_time_step_mse: 0.0206\n",
      "Epoch 8/20\n",
      "219/219 [==============================] - 4s 20ms/step - loss: 0.0347 - last_time_step_mse: 0.0208 - val_loss: 0.0341 - val_last_time_step_mse: 0.0201\n",
      "Epoch 9/20\n",
      "219/219 [==============================] - 4s 20ms/step - loss: 0.0334 - last_time_step_mse: 0.0194 - val_loss: 0.0332 - val_last_time_step_mse: 0.0190\n",
      "Epoch 10/20\n",
      "219/219 [==============================] - 4s 20ms/step - loss: 0.0320 - last_time_step_mse: 0.0180 - val_loss: 0.0309 - val_last_time_step_mse: 0.0162\n",
      "Epoch 11/20\n",
      "219/219 [==============================] - 4s 20ms/step - loss: 0.0311 - last_time_step_mse: 0.0173 - val_loss: 0.0299 - val_last_time_step_mse: 0.0157\n",
      "Epoch 12/20\n",
      "219/219 [==============================] - 4s 20ms/step - loss: 0.0300 - last_time_step_mse: 0.0163 - val_loss: 0.0294 - val_last_time_step_mse: 0.0161\n",
      "Epoch 13/20\n",
      "219/219 [==============================] - 4s 20ms/step - loss: 0.0293 - last_time_step_mse: 0.0157 - val_loss: 0.0285 - val_last_time_step_mse: 0.0148\n",
      "Epoch 14/20\n",
      "219/219 [==============================] - 4s 20ms/step - loss: 0.0287 - last_time_step_mse: 0.0154 - val_loss: 0.0284 - val_last_time_step_mse: 0.0154\n",
      "Epoch 15/20\n",
      "219/219 [==============================] - 4s 20ms/step - loss: 0.0283 - last_time_step_mse: 0.0152 - val_loss: 0.0275 - val_last_time_step_mse: 0.0143\n",
      "Epoch 16/20\n",
      "219/219 [==============================] - 4s 20ms/step - loss: 0.0278 - last_time_step_mse: 0.0150 - val_loss: 0.0276 - val_last_time_step_mse: 0.0148\n",
      "Epoch 17/20\n",
      "219/219 [==============================] - 4s 20ms/step - loss: 0.0274 - last_time_step_mse: 0.0145 - val_loss: 0.0273 - val_last_time_step_mse: 0.0139\n",
      "Epoch 18/20\n",
      "219/219 [==============================] - 4s 20ms/step - loss: 0.0270 - last_time_step_mse: 0.0143 - val_loss: 0.0265 - val_last_time_step_mse: 0.0140\n",
      "Epoch 19/20\n",
      "219/219 [==============================] - 4s 20ms/step - loss: 0.0266 - last_time_step_mse: 0.0139 - val_loss: 0.0264 - val_last_time_step_mse: 0.0138\n",
      "Epoch 20/20\n",
      "219/219 [==============================] - 4s 20ms/step - loss: 0.0263 - last_time_step_mse: 0.0137 - val_loss: 0.0258 - val_last_time_step_mse: 0.0131\n"
     ]
    }
   ],
   "source": [
    "np.random.seed(42)\n",
    "tf.random.set_seed(42)\n",
    "\n",
    "model = keras.models.Sequential([\n",
    "    MyRNN(LNSimpleRNNCell(20), return_sequences=True,\n",
    "          input_shape=[None, 1]),\n",
    "    MyRNN(LNSimpleRNNCell(20), return_sequences=True),\n",
    "    keras.layers.TimeDistributed(keras.layers.Dense(10))\n",
    "])\n",
    "\n",
    "model.compile(loss=\"mse\", optimizer=\"adam\", metrics=[last_time_step_mse])\n",
    "history = model.fit(X_train, Y_train, epochs=20,\n",
    "                    validation_data=(X_valid, Y_valid))"
   ]
  },
  {
   "cell_type": "markdown",
   "metadata": {},
   "source": [
    "# LSTMs"
   ]
  },
  {
   "cell_type": "code",
   "execution_count": 40,
   "metadata": {
    "scrolled": true,
    "ExecuteTime": {
     "end_time": "2024-02-01T16:33:28.620476300Z",
     "start_time": "2024-02-01T16:32:31.974719200Z"
    }
   },
   "outputs": [
    {
     "name": "stdout",
     "output_type": "stream",
     "text": [
      "Epoch 1/20\n",
      "219/219 [==============================] - 6s 19ms/step - loss: 0.0784 - last_time_step_mse: 0.0641 - val_loss: 0.0549 - val_last_time_step_mse: 0.0352\n",
      "Epoch 2/20\n",
      "219/219 [==============================] - 3s 12ms/step - loss: 0.0472 - last_time_step_mse: 0.0265 - val_loss: 0.0418 - val_last_time_step_mse: 0.0210\n",
      "Epoch 3/20\n",
      "219/219 [==============================] - 3s 12ms/step - loss: 0.0384 - last_time_step_mse: 0.0174 - val_loss: 0.0371 - val_last_time_step_mse: 0.0170\n",
      "Epoch 4/20\n",
      "219/219 [==============================] - 3s 12ms/step - loss: 0.0350 - last_time_step_mse: 0.0155 - val_loss: 0.0338 - val_last_time_step_mse: 0.0144\n",
      "Epoch 5/20\n",
      "219/219 [==============================] - 3s 12ms/step - loss: 0.0332 - last_time_step_mse: 0.0148 - val_loss: 0.0326 - val_last_time_step_mse: 0.0142\n",
      "Epoch 6/20\n",
      "219/219 [==============================] - 3s 12ms/step - loss: 0.0316 - last_time_step_mse: 0.0137 - val_loss: 0.0307 - val_last_time_step_mse: 0.0128\n",
      "Epoch 7/20\n",
      "219/219 [==============================] - 3s 12ms/step - loss: 0.0303 - last_time_step_mse: 0.0128 - val_loss: 0.0300 - val_last_time_step_mse: 0.0132\n",
      "Epoch 8/20\n",
      "219/219 [==============================] - 3s 12ms/step - loss: 0.0290 - last_time_step_mse: 0.0115 - val_loss: 0.0281 - val_last_time_step_mse: 0.0106\n",
      "Epoch 9/20\n",
      "219/219 [==============================] - 3s 12ms/step - loss: 0.0281 - last_time_step_mse: 0.0109 - val_loss: 0.0282 - val_last_time_step_mse: 0.0118\n",
      "Epoch 10/20\n",
      "219/219 [==============================] - 3s 12ms/step - loss: 0.0273 - last_time_step_mse: 0.0103 - val_loss: 0.0270 - val_last_time_step_mse: 0.0104\n",
      "Epoch 11/20\n",
      "219/219 [==============================] - 3s 12ms/step - loss: 0.0268 - last_time_step_mse: 0.0101 - val_loss: 0.0261 - val_last_time_step_mse: 0.0094\n",
      "Epoch 12/20\n",
      "219/219 [==============================] - 3s 12ms/step - loss: 0.0264 - last_time_step_mse: 0.0100 - val_loss: 0.0259 - val_last_time_step_mse: 0.0094\n",
      "Epoch 13/20\n",
      "219/219 [==============================] - 3s 12ms/step - loss: 0.0258 - last_time_step_mse: 0.0095 - val_loss: 0.0255 - val_last_time_step_mse: 0.0092\n",
      "Epoch 14/20\n",
      "219/219 [==============================] - 3s 12ms/step - loss: 0.0256 - last_time_step_mse: 0.0095 - val_loss: 0.0252 - val_last_time_step_mse: 0.0097\n",
      "Epoch 15/20\n",
      "219/219 [==============================] - 3s 12ms/step - loss: 0.0252 - last_time_step_mse: 0.0093 - val_loss: 0.0250 - val_last_time_step_mse: 0.0091\n",
      "Epoch 16/20\n",
      "219/219 [==============================] - 3s 12ms/step - loss: 0.0251 - last_time_step_mse: 0.0094 - val_loss: 0.0251 - val_last_time_step_mse: 0.0091\n",
      "Epoch 17/20\n",
      "219/219 [==============================] - 3s 12ms/step - loss: 0.0248 - last_time_step_mse: 0.0092 - val_loss: 0.0248 - val_last_time_step_mse: 0.0093\n",
      "Epoch 18/20\n",
      "219/219 [==============================] - 3s 12ms/step - loss: 0.0245 - last_time_step_mse: 0.0092 - val_loss: 0.0244 - val_last_time_step_mse: 0.0089\n",
      "Epoch 19/20\n",
      "219/219 [==============================] - 3s 12ms/step - loss: 0.0243 - last_time_step_mse: 0.0089 - val_loss: 0.0246 - val_last_time_step_mse: 0.0109\n",
      "Epoch 20/20\n",
      "219/219 [==============================] - 3s 12ms/step - loss: 0.0240 - last_time_step_mse: 0.0088 - val_loss: 0.0241 - val_last_time_step_mse: 0.0086\n"
     ]
    }
   ],
   "source": [
    "np.random.seed(42)\n",
    "tf.random.set_seed(42)\n",
    "\n",
    "model = keras.models.Sequential([\n",
    "    keras.layers.LSTM(20, return_sequences=True, input_shape=[None, 1]),\n",
    "    keras.layers.LSTM(20, return_sequences=True),\n",
    "    keras.layers.TimeDistributed(keras.layers.Dense(10))\n",
    "])\n",
    "\n",
    "model.compile(loss=\"mse\", optimizer=\"adam\", metrics=[last_time_step_mse])\n",
    "history = model.fit(X_train, Y_train, epochs=20,\n",
    "                    validation_data=(X_valid, Y_valid))"
   ]
  },
  {
   "cell_type": "code",
   "execution_count": 41,
   "metadata": {
    "ExecuteTime": {
     "end_time": "2024-02-01T16:49:55.723197900Z",
     "start_time": "2024-02-01T16:49:55.436691Z"
    }
   },
   "outputs": [
    {
     "name": "stdout",
     "output_type": "stream",
     "text": [
      "63/63 [==============================] - 0s 3ms/step - loss: 0.0241 - last_time_step_mse: 0.0086\n"
     ]
    },
    {
     "data": {
      "text/plain": "[0.02412364073097706, 0.008634794503450394]"
     },
     "execution_count": 41,
     "metadata": {},
     "output_type": "execute_result"
    }
   ],
   "source": [
    "model.evaluate(X_valid, Y_valid)"
   ]
  },
  {
   "cell_type": "code",
   "execution_count": 42,
   "metadata": {
    "ExecuteTime": {
     "end_time": "2024-02-01T16:50:00.018683100Z",
     "start_time": "2024-02-01T16:49:59.926092300Z"
    }
   },
   "outputs": [
    {
     "data": {
      "text/plain": "<Figure size 640x480 with 1 Axes>",
      "image/png": "[encoded data removed]"
     },
     "metadata": {},
     "output_type": "display_data"
    }
   ],
   "source": [
    "plot_learning_curves(history.history[\"loss\"], history.history[\"val_loss\"])\n",
    "plt.show()"
   ]
  },
  {
   "cell_type": "code",
   "execution_count": 43,
   "metadata": {
    "ExecuteTime": {
     "end_time": "2024-02-01T17:03:45.052881400Z",
     "start_time": "2024-02-01T17:03:44.548429400Z"
    }
   },
   "outputs": [
    {
     "name": "stdout",
     "output_type": "stream",
     "text": [
      "1/1 [==============================] - 0s 465ms/step\n"
     ]
    }
   ],
   "source": [
    "np.random.seed(43)\n",
    "\n",
    "series = generate_time_series(1, 50 + 10)\n",
    "X_new, Y_new = series[:, :50, :], series[:, 50:, :]\n",
    "Y_pred = model.predict(X_new)[:, -1][..., np.newaxis]"
   ]
  },
  {
   "cell_type": "markdown",
   "metadata": {},
   "source": [
    "# GRUs"
   ]
  },
  {
   "cell_type": "code",
   "execution_count": 45,
   "metadata": {
    "ExecuteTime": {
     "end_time": "2024-02-01T17:04:49.759117Z",
     "start_time": "2024-02-01T17:03:50.899475300Z"
    }
   },
   "outputs": [
    {
     "name": "stdout",
     "output_type": "stream",
     "text": [
      "Epoch 1/20\n",
      "219/219 [==============================] - 5s 15ms/step - loss: 0.0754 - last_time_step_mse: 0.0661 - val_loss: 0.0559 - val_last_time_step_mse: 0.0449\n",
      "Epoch 2/20\n",
      "219/219 [==============================] - 3s 13ms/step - loss: 0.0505 - last_time_step_mse: 0.0400 - val_loss: 0.0464 - val_last_time_step_mse: 0.0358\n",
      "Epoch 3/20\n",
      "219/219 [==============================] - 3s 13ms/step - loss: 0.0447 - last_time_step_mse: 0.0338 - val_loss: 0.0426 - val_last_time_step_mse: 0.0319\n",
      "Epoch 4/20\n",
      "219/219 [==============================] - 3s 13ms/step - loss: 0.0412 - last_time_step_mse: 0.0298 - val_loss: 0.0390 - val_last_time_step_mse: 0.0266\n",
      "Epoch 5/20\n",
      "219/219 [==============================] - 3s 13ms/step - loss: 0.0382 - last_time_step_mse: 0.0260 - val_loss: 0.0367 - val_last_time_step_mse: 0.0252\n",
      "Epoch 6/20\n",
      "219/219 [==============================] - 3s 13ms/step - loss: 0.0359 - last_time_step_mse: 0.0233 - val_loss: 0.0341 - val_last_time_step_mse: 0.0208\n",
      "Epoch 7/20\n",
      "219/219 [==============================] - 3s 13ms/step - loss: 0.0328 - last_time_step_mse: 0.0186 - val_loss: 0.0312 - val_last_time_step_mse: 0.0162\n",
      "Epoch 8/20\n",
      "219/219 [==============================] - 3s 13ms/step - loss: 0.0304 - last_time_step_mse: 0.0151 - val_loss: 0.0291 - val_last_time_step_mse: 0.0140\n",
      "Epoch 9/20\n",
      "219/219 [==============================] - 3s 13ms/step - loss: 0.0286 - last_time_step_mse: 0.0133 - val_loss: 0.0279 - val_last_time_step_mse: 0.0127\n",
      "Epoch 10/20\n",
      "219/219 [==============================] - 3s 13ms/step - loss: 0.0275 - last_time_step_mse: 0.0125 - val_loss: 0.0269 - val_last_time_step_mse: 0.0120\n",
      "Epoch 11/20\n",
      "219/219 [==============================] - 3s 13ms/step - loss: 0.0266 - last_time_step_mse: 0.0117 - val_loss: 0.0258 - val_last_time_step_mse: 0.0111\n",
      "Epoch 12/20\n",
      "219/219 [==============================] - 3s 13ms/step - loss: 0.0259 - last_time_step_mse: 0.0113 - val_loss: 0.0253 - val_last_time_step_mse: 0.0107\n",
      "Epoch 13/20\n",
      "219/219 [==============================] - 3s 13ms/step - loss: 0.0254 - last_time_step_mse: 0.0108 - val_loss: 0.0252 - val_last_time_step_mse: 0.0110\n",
      "Epoch 14/20\n",
      "219/219 [==============================] - 3s 13ms/step - loss: 0.0250 - last_time_step_mse: 0.0105 - val_loss: 0.0247 - val_last_time_step_mse: 0.0108\n",
      "Epoch 15/20\n",
      "219/219 [==============================] - 3s 13ms/step - loss: 0.0246 - last_time_step_mse: 0.0102 - val_loss: 0.0243 - val_last_time_step_mse: 0.0099\n",
      "Epoch 16/20\n",
      "219/219 [==============================] - 3s 13ms/step - loss: 0.0243 - last_time_step_mse: 0.0101 - val_loss: 0.0243 - val_last_time_step_mse: 0.0100\n",
      "Epoch 17/20\n",
      "219/219 [==============================] - 3s 13ms/step - loss: 0.0240 - last_time_step_mse: 0.0099 - val_loss: 0.0240 - val_last_time_step_mse: 0.0102\n",
      "Epoch 18/20\n",
      "219/219 [==============================] - 3s 13ms/step - loss: 0.0238 - last_time_step_mse: 0.0097 - val_loss: 0.0233 - val_last_time_step_mse: 0.0092\n",
      "Epoch 19/20\n",
      "219/219 [==============================] - 3s 13ms/step - loss: 0.0235 - last_time_step_mse: 0.0095 - val_loss: 0.0233 - val_last_time_step_mse: 0.0096\n",
      "Epoch 20/20\n",
      "219/219 [==============================] - 3s 13ms/step - loss: 0.0233 - last_time_step_mse: 0.0094 - val_loss: 0.0230 - val_last_time_step_mse: 0.0092\n"
     ]
    }
   ],
   "source": [
    "np.random.seed(42)\n",
    "tf.random.set_seed(42)\n",
    "\n",
    "model = keras.models.Sequential([\n",
    "    keras.layers.GRU(20, return_sequences=True, input_shape=[None, 1]),\n",
    "    keras.layers.GRU(20, return_sequences=True),\n",
    "    keras.layers.TimeDistributed(keras.layers.Dense(10))\n",
    "])\n",
    "\n",
    "model.compile(loss=\"mse\", optimizer=\"adam\", metrics=[last_time_step_mse])\n",
    "history = model.fit(X_train, Y_train, epochs=20,\n",
    "                    validation_data=(X_valid, Y_valid))"
   ]
  },
  {
   "cell_type": "code",
   "execution_count": 46,
   "metadata": {
    "ExecuteTime": {
     "end_time": "2024-02-01T17:13:38.707549600Z",
     "start_time": "2024-02-01T17:13:38.406365600Z"
    }
   },
   "outputs": [
    {
     "name": "stdout",
     "output_type": "stream",
     "text": [
      "63/63 [==============================] - 0s 4ms/step - loss: 0.0230 - last_time_step_mse: 0.0092\n"
     ]
    },
    {
     "data": {
      "text/plain": "[0.02302752248942852, 0.0091557577252388]"
     },
     "execution_count": 46,
     "metadata": {},
     "output_type": "execute_result"
    }
   ],
   "source": [
    "model.evaluate(X_valid, Y_valid)"
   ]
  },
  {
   "cell_type": "code",
   "execution_count": 47,
   "metadata": {
    "ExecuteTime": {
     "end_time": "2024-02-01T17:13:40.227243600Z",
     "start_time": "2024-02-01T17:13:40.114129200Z"
    }
   },
   "outputs": [
    {
     "data": {
      "text/plain": "<Figure size 640x480 with 1 Axes>",
      "image/png": "[encoded data removed]"
     },
     "metadata": {},
     "output_type": "display_data"
    }
   ],
   "source": [
    "plot_learning_curves(history.history[\"loss\"], history.history[\"val_loss\"])\n",
    "plt.show()"
   ]
  },
  {
   "cell_type": "code",
   "execution_count": 48,
   "metadata": {
    "ExecuteTime": {
     "end_time": "2024-02-01T17:13:41.305316400Z",
     "start_time": "2024-02-01T17:13:40.839390100Z"
    }
   },
   "outputs": [
    {
     "name": "stdout",
     "output_type": "stream",
     "text": [
      "WARNING:tensorflow:5 out of the last 571 calls to <function Model.make_predict_function.<locals>.predict_function at 0x0000025B90B1DE50> triggered tf.function retracing. Tracing is expensive and the excessive number of tracings could be due to (1) creating @tf.function repeatedly in a loop, (2) passing tensors with different shapes, (3) passing Python objects instead of tensors. For (1), please define your @tf.function outside of the loop. For (2), @tf.function has reduce_retracing=True option that can avoid unnecessary retracing. For (3), please refer to https://www.tensorflow.org/guide/function#controlling_retracing and https://www.tensorflow.org/api_docs/python/tf/function for  more details.\n",
      "1/1 [==============================] - 0s 434ms/step\n"
     ]
    }
   ],
   "source": [
    "np.random.seed(43)\n",
    "\n",
    "series = generate_time_series(1, 50 + 10)\n",
    "X_new, Y_new = series[:, :50, :], series[:, 50:, :]\n",
    "Y_pred = model.predict(X_new)[:, -1][..., np.newaxis]"
   ]
  },
  {
   "cell_type": "markdown",
   "metadata": {},
   "source": [
    "## Using One-Dimensional Convolutional Layers to Process Sequences"
   ]
  },
  {
   "cell_type": "markdown",
   "metadata": {},
   "source": [
    "```\n",
    "1D conv layer with kernel size 4, stride 2, VALID padding:\n",
    "\n",
    "              |-----2-----|     |-----5---...------|     |-----23----|\n",
    "        |-----1-----|     |-----4-----|   ...      |-----22----|\n",
    "  |-----0----|      |-----3-----|     |---...|-----21----|\n",
    "X: 0  1  2  3  4  5  6  7  8  9  10 11 12 ... 42 43 44 45 46 47 48 49\n",
    "Y: 1  2  3  4  5  6  7  8  9  10 11 12 13 ... 43 44 45 46 47 48 49 50\n",
    "  /10 11 12 13 14 15 16 17 18 19 20 21 22 ... 52 53 54 55 56 57 58 59\n",
    "\n",
    "Output:\n",
    "\n",
    "X:     0/3   2/5   4/7   6/9   8/11 10/13 .../43 42/45 44/47 46/49\n",
    "Y:     4/13  6/15  8/17 10/19 12/21 14/23 .../53 46/55 48/57 50/59\n",
    "```"
   ]
  },
  {
   "cell_type": "code",
   "execution_count": 50,
   "metadata": {
    "ExecuteTime": {
     "end_time": "2024-02-01T17:14:34.530183200Z",
     "start_time": "2024-02-01T17:13:57.524930Z"
    }
   },
   "outputs": [
    {
     "name": "stdout",
     "output_type": "stream",
     "text": [
      "Epoch 1/20\n",
      "219/219 [==============================] - 4s 10ms/step - loss: 0.0663 - last_time_step_mse: 0.0579 - val_loss: 0.0436 - val_last_time_step_mse: 0.0345\n",
      "Epoch 2/20\n",
      "219/219 [==============================] - 2s 8ms/step - loss: 0.0385 - last_time_step_mse: 0.0307 - val_loss: 0.0331 - val_last_time_step_mse: 0.0245\n",
      "Epoch 3/20\n",
      "219/219 [==============================] - 2s 8ms/step - loss: 0.0300 - last_time_step_mse: 0.0207 - val_loss: 0.0274 - val_last_time_step_mse: 0.0167\n",
      "Epoch 4/20\n",
      "219/219 [==============================] - 2s 8ms/step - loss: 0.0258 - last_time_step_mse: 0.0148 - val_loss: 0.0246 - val_last_time_step_mse: 0.0136\n",
      "Epoch 5/20\n",
      "219/219 [==============================] - 2s 8ms/step - loss: 0.0240 - last_time_step_mse: 0.0128 - val_loss: 0.0240 - val_last_time_step_mse: 0.0131\n",
      "Epoch 6/20\n",
      "219/219 [==============================] - 2s 8ms/step - loss: 0.0229 - last_time_step_mse: 0.0118 - val_loss: 0.0224 - val_last_time_step_mse: 0.0111\n",
      "Epoch 7/20\n",
      "219/219 [==============================] - 2s 8ms/step - loss: 0.0221 - last_time_step_mse: 0.0111 - val_loss: 0.0218 - val_last_time_step_mse: 0.0108\n",
      "Epoch 8/20\n",
      "219/219 [==============================] - 2s 8ms/step - loss: 0.0214 - last_time_step_mse: 0.0105 - val_loss: 0.0213 - val_last_time_step_mse: 0.0102\n",
      "Epoch 9/20\n",
      "219/219 [==============================] - 2s 8ms/step - loss: 0.0210 - last_time_step_mse: 0.0101 - val_loss: 0.0209 - val_last_time_step_mse: 0.0100\n",
      "Epoch 10/20\n",
      "219/219 [==============================] - 2s 8ms/step - loss: 0.0206 - last_time_step_mse: 0.0099 - val_loss: 0.0204 - val_last_time_step_mse: 0.0096\n",
      "Epoch 11/20\n",
      "219/219 [==============================] - 2s 8ms/step - loss: 0.0202 - last_time_step_mse: 0.0096 - val_loss: 0.0203 - val_last_time_step_mse: 0.0098\n",
      "Epoch 12/20\n",
      "219/219 [==============================] - 2s 8ms/step - loss: 0.0200 - last_time_step_mse: 0.0094 - val_loss: 0.0199 - val_last_time_step_mse: 0.0092\n",
      "Epoch 13/20\n",
      "219/219 [==============================] - 2s 8ms/step - loss: 0.0196 - last_time_step_mse: 0.0091 - val_loss: 0.0198 - val_last_time_step_mse: 0.0093\n",
      "Epoch 14/20\n",
      "219/219 [==============================] - 2s 8ms/step - loss: 0.0194 - last_time_step_mse: 0.0089 - val_loss: 0.0196 - val_last_time_step_mse: 0.0093\n",
      "Epoch 15/20\n",
      "219/219 [==============================] - 2s 8ms/step - loss: 0.0192 - last_time_step_mse: 0.0088 - val_loss: 0.0192 - val_last_time_step_mse: 0.0087\n",
      "Epoch 16/20\n",
      "219/219 [==============================] - 2s 8ms/step - loss: 0.0190 - last_time_step_mse: 0.0087 - val_loss: 0.0192 - val_last_time_step_mse: 0.0085\n",
      "Epoch 17/20\n",
      "219/219 [==============================] - 2s 8ms/step - loss: 0.0187 - last_time_step_mse: 0.0084 - val_loss: 0.0188 - val_last_time_step_mse: 0.0084\n",
      "Epoch 18/20\n",
      "219/219 [==============================] - 2s 8ms/step - loss: 0.0186 - last_time_step_mse: 0.0082 - val_loss: 0.0187 - val_last_time_step_mse: 0.0083\n",
      "Epoch 19/20\n",
      "219/219 [==============================] - 2s 8ms/step - loss: 0.0184 - last_time_step_mse: 0.0082 - val_loss: 0.0183 - val_last_time_step_mse: 0.0079\n",
      "Epoch 20/20\n",
      "219/219 [==============================] - 2s 8ms/step - loss: 0.0180 - last_time_step_mse: 0.0078 - val_loss: 0.0180 - val_last_time_step_mse: 0.0077\n"
     ]
    }
   ],
   "source": [
    "np.random.seed(42)\n",
    "tf.random.set_seed(42)\n",
    "\n",
    "model = keras.models.Sequential([\n",
    "    keras.layers.Conv1D(filters=20, kernel_size=4, strides=2, padding=\"valid\",\n",
    "                        input_shape=[None, 1]),\n",
    "    keras.layers.GRU(20, return_sequences=True),\n",
    "    keras.layers.GRU(20, return_sequences=True),\n",
    "    keras.layers.TimeDistributed(keras.layers.Dense(10))\n",
    "])\n",
    "\n",
    "model.compile(loss=\"mse\", optimizer=\"adam\", metrics=[last_time_step_mse])\n",
    "history = model.fit(X_train, Y_train[:, 3::2], epochs=20,\n",
    "                    validation_data=(X_valid, Y_valid[:, 3::2]))"
   ]
  },
  {
   "cell_type": "markdown",
   "metadata": {},
   "source": [
    "## WaveNet"
   ]
  },
  {
   "cell_type": "markdown",
   "metadata": {},
   "source": [
    "```\n",
    "C2  /\\ /\\ /\\ /\\ /\\ /\\ /\\ /\\ /\\ /\\ /\\ /\\ /\\.../\\ /\\ /\\ /\\ /\\ /\\\n",
    "   \\  /  \\  /  \\  /  \\  /  \\  /  \\  /  \\       /  \\  /  \\  /  \\\n",
    "     /    \\      /    \\      /    \\                 /    \\\n",
    "C1  /\\ /\\ /\\ /\\ /\\ /\\ /\\ /\\ /\\ /\\ /\\  /\\ /.../\\ /\\ /\\ /\\ /\\ /\\ /\\\n",
    "X: 0  1  2  3  4  5  6  7  8  9  10 11 12 ... 43 44 45 46 47 48 49\n",
    "Y: 1  2  3  4  5  6  7  8  9  10 11 12 13 ... 44 45 46 47 48 49 50\n",
    "  /10 11 12 13 14 15 16 17 18 19 20 21 22 ... 53 54 55 56 57 58 59\n",
    "```"
   ]
  },
  {
   "cell_type": "code",
   "execution_count": 51,
   "metadata": {
    "ExecuteTime": {
     "end_time": "2024-02-01T17:19:05.715035Z",
     "start_time": "2024-02-01T17:18:47.832906100Z"
    }
   },
   "outputs": [
    {
     "name": "stdout",
     "output_type": "stream",
     "text": [
      "Epoch 1/20\n",
      "219/219 [==============================] - 2s 6ms/step - loss: 0.0693 - last_time_step_mse: 0.0572 - val_loss: 0.0361 - val_last_time_step_mse: 0.0217\n",
      "Epoch 2/20\n",
      "219/219 [==============================] - 1s 4ms/step - loss: 0.0325 - last_time_step_mse: 0.0189 - val_loss: 0.0295 - val_last_time_step_mse: 0.0164\n",
      "Epoch 3/20\n",
      "219/219 [==============================] - 1s 4ms/step - loss: 0.0284 - last_time_step_mse: 0.0155 - val_loss: 0.0269 - val_last_time_step_mse: 0.0143\n",
      "Epoch 4/20\n",
      "219/219 [==============================] - 1s 4ms/step - loss: 0.0263 - last_time_step_mse: 0.0137 - val_loss: 0.0258 - val_last_time_step_mse: 0.0132\n",
      "Epoch 5/20\n",
      "219/219 [==============================] - 1s 4ms/step - loss: 0.0252 - last_time_step_mse: 0.0128 - val_loss: 0.0245 - val_last_time_step_mse: 0.0121\n",
      "Epoch 6/20\n",
      "219/219 [==============================] - 1s 4ms/step - loss: 0.0243 - last_time_step_mse: 0.0119 - val_loss: 0.0238 - val_last_time_step_mse: 0.0114\n",
      "Epoch 7/20\n",
      "219/219 [==============================] - 1s 4ms/step - loss: 0.0237 - last_time_step_mse: 0.0116 - val_loss: 0.0233 - val_last_time_step_mse: 0.0112\n",
      "Epoch 8/20\n",
      "219/219 [==============================] - 1s 4ms/step - loss: 0.0231 - last_time_step_mse: 0.0110 - val_loss: 0.0234 - val_last_time_step_mse: 0.0112\n",
      "Epoch 9/20\n",
      "219/219 [==============================] - 1s 4ms/step - loss: 0.0227 - last_time_step_mse: 0.0107 - val_loss: 0.0231 - val_last_time_step_mse: 0.0117\n",
      "Epoch 10/20\n",
      "219/219 [==============================] - 1s 4ms/step - loss: 0.0224 - last_time_step_mse: 0.0105 - val_loss: 0.0221 - val_last_time_step_mse: 0.0098\n",
      "Epoch 11/20\n",
      "219/219 [==============================] - 1s 4ms/step - loss: 0.0220 - last_time_step_mse: 0.0103 - val_loss: 0.0218 - val_last_time_step_mse: 0.0101\n",
      "Epoch 12/20\n",
      "219/219 [==============================] - 1s 4ms/step - loss: 0.0217 - last_time_step_mse: 0.0100 - val_loss: 0.0223 - val_last_time_step_mse: 0.0110\n",
      "Epoch 13/20\n",
      "219/219 [==============================] - 1s 4ms/step - loss: 0.0214 - last_time_step_mse: 0.0097 - val_loss: 0.0215 - val_last_time_step_mse: 0.0097\n",
      "Epoch 14/20\n",
      "219/219 [==============================] - 1s 4ms/step - loss: 0.0211 - last_time_step_mse: 0.0095 - val_loss: 0.0209 - val_last_time_step_mse: 0.0091\n",
      "Epoch 15/20\n",
      "219/219 [==============================] - 1s 4ms/step - loss: 0.0208 - last_time_step_mse: 0.0092 - val_loss: 0.0205 - val_last_time_step_mse: 0.0087\n",
      "Epoch 16/20\n",
      "219/219 [==============================] - 1s 4ms/step - loss: 0.0204 - last_time_step_mse: 0.0088 - val_loss: 0.0201 - val_last_time_step_mse: 0.0083\n",
      "Epoch 17/20\n",
      "219/219 [==============================] - 1s 4ms/step - loss: 0.0200 - last_time_step_mse: 0.0084 - val_loss: 0.0198 - val_last_time_step_mse: 0.0080\n",
      "Epoch 18/20\n",
      "219/219 [==============================] - 1s 4ms/step - loss: 0.0195 - last_time_step_mse: 0.0079 - val_loss: 0.0193 - val_last_time_step_mse: 0.0075\n",
      "Epoch 19/20\n",
      "219/219 [==============================] - 1s 4ms/step - loss: 0.0193 - last_time_step_mse: 0.0076 - val_loss: 0.0193 - val_last_time_step_mse: 0.0074\n",
      "Epoch 20/20\n",
      "219/219 [==============================] - 1s 4ms/step - loss: 0.0190 - last_time_step_mse: 0.0074 - val_loss: 0.0189 - val_last_time_step_mse: 0.0070\n"
     ]
    }
   ],
   "source": [
    "np.random.seed(42)\n",
    "tf.random.set_seed(42)\n",
    "\n",
    "model = keras.models.Sequential()\n",
    "model.add(keras.layers.InputLayer(input_shape=[None, 1]))\n",
    "for rate in (1, 2, 4, 8) * 2:\n",
    "    model.add(keras.layers.Conv1D(filters=20, kernel_size=2, padding=\"causal\",\n",
    "                                  activation=\"relu\", dilation_rate=rate))\n",
    "model.add(keras.layers.Conv1D(filters=10, kernel_size=1))\n",
    "model.compile(loss=\"mse\", optimizer=\"adam\", metrics=[last_time_step_mse])\n",
    "history = model.fit(X_train, Y_train, epochs=20,\n",
    "                    validation_data=(X_valid, Y_valid))"
   ]
  },
  {
   "cell_type": "markdown",
   "metadata": {},
   "source": [
    "Here is the original WaveNet defined in the paper: it uses Gated Activation Units instead of ReLU and parametrized skip connections, plus it pads with zeros on the left to avoid getting shorter and shorter sequences:"
   ]
  },
  {
   "cell_type": "markdown",
   "metadata": {},
   "source": [
    "In this chapter we explored the fundamentals of RNNs and used them to process sequences (namely, time series). In the process we also looked at other ways to process sequences, including CNNs. In the next chapter we will use RNNs for Natural Language Processing, and we will learn more about RNNs (bidirectional RNNs, stateful vs stateless RNNs, Encoder–Decoders, and Attention-augmented Encoder-Decoders). We will also look at the Transformer, an Attention-only architecture."
   ]
  }
 ],
 "metadata": {
  "kernelspec": {
   "display_name": "Python 3",
   "language": "python",
   "name": "python3"
  },
  "language_info": {
   "codemirror_mode": {
    "name": "ipython",
    "version": 3
   },
   "file_extension": ".py",
   "mimetype": "text/x-python",
   "name": "python",
   "nbconvert_exporter": "python",
   "pygments_lexer": "ipython3",
   "version": "3.7.10"
  },
  "nav_menu": {},
  "toc": {
   "navigate_menu": true,
   "number_sections": true,
   "sideBar": true,
   "threshold": 6,
   "toc_cell": false,
   "toc_section_display": "block",
   "toc_window_display": false
  }
 },
 "nbformat": 4,
 "nbformat_minor": 4
}
